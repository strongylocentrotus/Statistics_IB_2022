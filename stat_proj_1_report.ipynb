{
 "cells": [
  {
   "cell_type": "markdown",
   "source": [
    "## 1. Data reading\n",
    "Let's import some libs we need and combine files into integral dataframe."
   ],
   "metadata": {
    "collapsed": false
   }
  },
  {
   "cell_type": "code",
   "execution_count": 16,
   "outputs": [],
   "source": [
    "import pandas as pd\n",
    "import numpy as np\n",
    "from scipy import stats\n",
    "import glob"
   ],
   "metadata": {
    "collapsed": false
   }
  },
  {
   "cell_type": "code",
   "execution_count": 18,
   "outputs": [],
   "source": [
    "def tables_comb(path, extension, separator):\n",
    "    table = pd.DataFrame()\n",
    "    for file in glob.glob(f'{path}/*{extension}'):\n",
    "        pretable = pd.read_csv(file, sep=separator)\n",
    "        table = pd.concat([table, pretable])\n",
    "    return table\n",
    "\n",
    "olympics = tables_comb('data/athlete_events/', '.csv', ',')"
   ],
   "metadata": {
    "collapsed": false
   }
  },
  {
   "cell_type": "markdown",
   "source": [
    "Now I want to have a look on the result. Cool, seems to be a table."
   ],
   "metadata": {
    "collapsed": false
   }
  },
  {
   "cell_type": "code",
   "execution_count": 20,
   "outputs": [
    {
     "data": {
      "text/plain": "       ID                      Name Sex   Age  Height  Weight       Team  NOC  \\\n0  102344   Yosmany Romero Rodrguez   M  24.0   180.0    76.0       Cuba  CUB   \n1  102345  Francisco Romero Arribas   M  16.0   178.0    64.0  Guatemala  GUA   \n2  102345  Francisco Romero Arribas   M  20.0   178.0    64.0  Guatemala  GUA   \n3  102345  Francisco Romero Arribas   M  24.0   178.0    64.0  Guatemala  GUA   \n4  102345  Francisco Romero Arribas   M  32.0   178.0    64.0  Guatemala  GUA   \n\n         Games    Year  Season         City      Sport  \\\n0  2000 Summer  2000.0  Summer       Sydney  Wrestling   \n1  1976 Summer  1976.0  Summer     Montreal   Shooting   \n2  1980 Summer  1980.0  Summer       Moskva   Shooting   \n3  1984 Summer  1984.0  Summer  Los Angeles   Shooting   \n4  1992 Summer  1992.0  Summer    Barcelona   Shooting   \n\n                                     Event Medal  \n0  Wrestling Men's Middleweight, Freestyle   NaN  \n1                     Shooting Mixed Skeet   NaN  \n2                     Shooting Mixed Skeet   NaN  \n3                     Shooting Mixed Skeet   NaN  \n4                     Shooting Mixed Skeet   NaN  ",
      "text/html": "<div>\n<style scoped>\n    .dataframe tbody tr th:only-of-type {\n        vertical-align: middle;\n    }\n\n    .dataframe tbody tr th {\n        vertical-align: top;\n    }\n\n    .dataframe thead th {\n        text-align: right;\n    }\n</style>\n<table border=\"1\" class=\"dataframe\">\n  <thead>\n    <tr style=\"text-align: right;\">\n      <th></th>\n      <th>ID</th>\n      <th>Name</th>\n      <th>Sex</th>\n      <th>Age</th>\n      <th>Height</th>\n      <th>Weight</th>\n      <th>Team</th>\n      <th>NOC</th>\n      <th>Games</th>\n      <th>Year</th>\n      <th>Season</th>\n      <th>City</th>\n      <th>Sport</th>\n      <th>Event</th>\n      <th>Medal</th>\n    </tr>\n  </thead>\n  <tbody>\n    <tr>\n      <th>0</th>\n      <td>102344</td>\n      <td>Yosmany Romero Rodrguez</td>\n      <td>M</td>\n      <td>24.0</td>\n      <td>180.0</td>\n      <td>76.0</td>\n      <td>Cuba</td>\n      <td>CUB</td>\n      <td>2000 Summer</td>\n      <td>2000.0</td>\n      <td>Summer</td>\n      <td>Sydney</td>\n      <td>Wrestling</td>\n      <td>Wrestling Men's Middleweight, Freestyle</td>\n      <td>NaN</td>\n    </tr>\n    <tr>\n      <th>1</th>\n      <td>102345</td>\n      <td>Francisco Romero Arribas</td>\n      <td>M</td>\n      <td>16.0</td>\n      <td>178.0</td>\n      <td>64.0</td>\n      <td>Guatemala</td>\n      <td>GUA</td>\n      <td>1976 Summer</td>\n      <td>1976.0</td>\n      <td>Summer</td>\n      <td>Montreal</td>\n      <td>Shooting</td>\n      <td>Shooting Mixed Skeet</td>\n      <td>NaN</td>\n    </tr>\n    <tr>\n      <th>2</th>\n      <td>102345</td>\n      <td>Francisco Romero Arribas</td>\n      <td>M</td>\n      <td>20.0</td>\n      <td>178.0</td>\n      <td>64.0</td>\n      <td>Guatemala</td>\n      <td>GUA</td>\n      <td>1980 Summer</td>\n      <td>1980.0</td>\n      <td>Summer</td>\n      <td>Moskva</td>\n      <td>Shooting</td>\n      <td>Shooting Mixed Skeet</td>\n      <td>NaN</td>\n    </tr>\n    <tr>\n      <th>3</th>\n      <td>102345</td>\n      <td>Francisco Romero Arribas</td>\n      <td>M</td>\n      <td>24.0</td>\n      <td>178.0</td>\n      <td>64.0</td>\n      <td>Guatemala</td>\n      <td>GUA</td>\n      <td>1984 Summer</td>\n      <td>1984.0</td>\n      <td>Summer</td>\n      <td>Los Angeles</td>\n      <td>Shooting</td>\n      <td>Shooting Mixed Skeet</td>\n      <td>NaN</td>\n    </tr>\n    <tr>\n      <th>4</th>\n      <td>102345</td>\n      <td>Francisco Romero Arribas</td>\n      <td>M</td>\n      <td>32.0</td>\n      <td>178.0</td>\n      <td>64.0</td>\n      <td>Guatemala</td>\n      <td>GUA</td>\n      <td>1992 Summer</td>\n      <td>1992.0</td>\n      <td>Summer</td>\n      <td>Barcelona</td>\n      <td>Shooting</td>\n      <td>Shooting Mixed Skeet</td>\n      <td>NaN</td>\n    </tr>\n  </tbody>\n</table>\n</div>"
     },
     "execution_count": 20,
     "metadata": {},
     "output_type": "execute_result"
    }
   ],
   "source": [
    "olympics.head(5) #for just the top of this iceberg\n",
    "olympics #watch it full no ads for free"
   ],
   "metadata": {
    "collapsed": false
   }
  },
  {
   "cell_type": "markdown",
   "source": [
    "## 2. Data filtering\n",
    "Unfortunately, an evil fate  spoiled our dataset, we are now to drop the teams from the numbered countries."
   ],
   "metadata": {
    "collapsed": false
   }
  },
  {
   "cell_type": "code",
   "execution_count": 21,
   "outputs": [
    {
     "data": {
      "text/plain": "array(['Cuba', 'Guatemala', 'Luxembourg', 'Spain', 'Hungary',\n       'United States', 'Poland', 'Switzerland', 'Soviet Union',\n       'Netherlands', 'France', 'Germany', 'Mexico', 'Argentina',\n       'West Germany', 'Belgium', 'Brazil', 'Norway', 'Israel', 'Peru',\n       'Australia', 'Ireland', 'Canada', 'Italy', 'Enotria',\n       'Equatorial Guinea', 'Dominican Republic', 'Venezuela', 'Emily',\n       'Feo', 'Latvia', 'Finland', 'Sweden', 'Kenya', 'Unified Team',\n       'Ukraine', 'Aruba', 'Great Britain', 'Estonia', 'New Zealand',\n       'Verveine', 'Union des Socits Franais de Sports Athletiques',\n       'Rhythm', 'Llanoria', 'Bahrain', 'Kyrgyzstan', 'Yugoslavia',\n       'Fiji', 'Portugal', 'Philippines', 'South Africa', 'Puerto Rico',\n       'Sri Lanka', 'El Salvador', 'Uruguay', 'Colombia', 'Romania',\n       'East Germany', 'Senegal', 'Samoa', 'Jamaica',\n       'St. Louis Southwest Turnverein #1', 'Seychelles', 'Denmark',\n       'Bohemia', 'Bohemia/Great Britain', 'Turkey', 'Austria',\n       'New York Turnverein, New York', 'Kitty', 'Ecuador', 'Iran',\n       'Belarus', 'Kazakhstan', 'Russia', 'Serbia', 'Czechoslovakia',\n       'Greece', 'Libellule de Paris', 'Georgia', 'Brunei', 'Malaysia',\n       'Saar', 'Indonesia', 'Czech Republic', 'Australasia',\n       'Antigua and Barbuda', 'Saint Vincent and the Grenadines',\n       'Guinea Bissau', 'Grenada',\n       'St. Louis Amateur Athletic Association', 'Sydney Rowing Club',\n       'Andorra', 'Chile', 'Monaco',\n       'Marinai della nave da guerra \"Varese\"', 'San Marino', 'Roma',\n       'Zimbabwe', 'United States Virgin Islands', 'Ariette', 'Egypt',\n       'Uzbekistan', 'Roddklubben af 1912',\n       'La Salle Turnverein, Chicago', 'Cyprus', 'Algeria',\n       'Cupidon Viking', 'Tunisia', 'Alain IV', 'Thames Rowing Club',\n       'Lebanon', 'Haiti', 'Morocco', 'Federated States of Micronesia',\n       'Moldova', 'Damoiselle', 'Slovenia',\n       'Amateur Athletic Association', 'India', 'Turkmenistan', 'Kuwait',\n       'Bulgaria', 'Croatia', 'Macedonia', 'Jo', 'China', 'Thailand',\n       'Rwanda', 'Bermuda', 'New York Athletic Club',\n       'New York Athletic Club #1', 'Bosnia and Herzegovina', 'Nigeria',\n       'Botswana', 'Nicaragua', 'Yeoman VII', 'Uganda', 'Costa Rica',\n       'Paraguay', 'Hong Kong', 'Lithuania', 'Mauritius',\n       'Berliner Ruderverein von 1876', 'Iceland', 'Tanzania', 'Bahamas',\n       'Favorite Hammonia', 'Slovakia', 'Bolivia', 'Kiribati',\n       'Greenoaks Dundee', 'Seawanhaka Boat Club', 'North Korea',\n       'Gteborgs Roddklubb', 'Aletta', 'Sif', 'Azerbaijan', 'Japan',\n       'South Korea', 'United Arab Republic', 'Syria', 'Yemen', 'Iraq',\n       'Maldives', 'Hatuey', 'Ghana', 'Individual Olympic Athletes',\n       'Namibia', 'Laos', 'Fantlet', 'Pakistan', 'Maid of Lebanon',\n       'Ethiopia', 'United Arab Emirates', 'Qatar', 'Malawi', 'Nortazo',\n       'Armenia', 'Libya', 'Guam', 'Burkina Faso', 'Madagascar', 'Malta',\n       'Umberta V', 'Liberia', 'Gambia', 'Cambodia',\n       'Socit Nautique de Bayonne', 'Congo (Brazzaville)', 'Danaldo',\n       'Sudan', 'Serbia and Montenegro', \"Cote d'Ivoire\",\n       'Nautikos Omilos', 'Panama', 'Djibouti', 'Afghanistan',\n       'Bangladesh', 'Pampero', 'Tango', 'Honduras', 'Mirtala',\n       'North Yemen', 'May Be', 'AliBaba II', 'May Be VII',\n       'Congo (Kinshasa)', 'Argus', 'Erna Signe', 'Chaje II', 'Lyn',\n       'Noreg', 'Mali', 'Mongolia', 'Palau', 'Trinidad and Tobago',\n       'Myanmar', 'Cape Verde', 'Belize', 'Vinga', 'Kerstin', 'Sylvia',\n       'Heatherbell', 'Finn II', 'Leander Club',\n       'United States/Great Britain', 'Sierra Leone', 'Guinea',\n       'Tajikistan', 'American Samoa', 'Malaya', 'Guyana', 'Angola',\n       'Mozambique', 'Peiraikos Syndesmos', 'Nepal', 'Singapore',\n       'Mauritania', 'Netherlands Antilles', 'Montenegro', 'Barrenjoey',\n       'Thessalonki', 'Racing Club de France', 'Aldebaran',\n       'Marshall Islands', 'Dansk Idrts Forbund',\n       'Club Nautique de Franais', 'Central African Republic',\n       'Palestine', 'Western Golf Association', 'South Yemen',\n       'British Virgin Islands', 'Rififi', 'Donar III', 'Liechtenstein',\n       'Germania II', 'EA II', 'Vesper Boat Club', 'Sunrise',\n       'Saint Lucia', 'Anitra', 'Studenternes Roklub', 'Mosk II',\n       'Gwendoline', 'HiHi', 'Denmark/Sweden', 'Silja', 'Frankfurt Club',\n       'Rush IV', 'Complex II', 'Bronia', 'Barco Deloro', 'Gallia II',\n       'Kemphaan', 'Turnverein Vorwrts, Chicago',\n       'Missouri Athletic Club', 'TimTam III',\n       'Central Turnverein, Chicago', 'Boer Team', 'Falcon IV', 'Potsdam',\n       'Bingo', 'Lesotho', 'Chad', 'Hungaria', 'Cupidon III', 'Togo',\n       'Cameroon', 'Benin', 'Milwaukee Athletic Club', 'Niger',\n       'Papua New Guinea', 'Giselle', 'TransMississippi Golf Association',\n       'Swaziland', 'Brussels Swimming and Water Polo Club', 'Tlaloc',\n       'Chinese Taipei', 'Kuling', 'Jordan', 'Saudi Arabia', 'Albania',\n       'Titia', 'Olen', 'Nokaut II', 'Almaz', 'Wales',\n       'London City Police', 'Cook Islands', 'Angelita', 'Vanuatu',\n       'England', 'Tulilind', 'Tornado', 'Taifun', 'Zambia', 'Suriname',\n       'Ardilla', 'Wiking', 'Djinn', 'Rampage', 'Fantasio III', 'Danuta',\n       'Sheerio', 'Sao Tome and Principe', 'Faneca', 'Windor',\n       'Oleander XII', 'Polyteknisk Roklub', 'Toronto Argonauts',\n       'Vim III', 'Barbados', 'Solomon Islands', 'Athens', 'Ralia',\n       'Freja', 'K.S.S.S. 1912', 'Lasha', 'Monica', 'State VI',\n       'K Division Metropolitan Police Team', 'Hilarius',\n       'Roklubb Kbnhavn', 'Gallant', 'Minotaur', 'Sibindi',\n       'Liverpool Police Team', 'Cayman Islands', 'Chuckles',\n       'Moseley Wanderers', 'Mascotte', 'Mohawk Indians', 'Ubu',\n       'Timor Leste', 'West Indies Federation', 'Damoiselle IV',\n       'Large boat, Central Naval Prep School \"Poros\"',\n       'Kristiania Roklub', 'Apache', 'Cornwall', 'Nauru', 'Sabre',\n       'Magdalen College Boat Club', 'Davenport Turngemeinde, Davenport',\n       'Aretusa', 'Argeste', 'Norwegier Turnverein, Brooklyn',\n       'Club Nautique de Lyon', 'Phalainis ton Thorichtou \"Hydra\"',\n       'Morena', 'Eleda', 'Upton Park FC',\n       'Phalainis ton Thorichtou \"Psara\"', 'Univ. of Brussels', nan,\n       'Rowing Club Castillon', 'Omas Helliniki P. S.',\n       'Omilos Ereton Peiraios', 'Lemzos Thorichton \"Spetsai\"', 'Gam II',\n       'Phoenix', 'New College, Oxford', 'Shrew II', 'Andromeda',\n       'Viktoriya', 'Manana', 'Pan', 'Antwerpia V', 'Mystery',\n       'Omilos Ereton Smyrnis', 'Norman', 'Nykjbings paa Falster',\n       'Pandora', 'Stella', 'Nina', 'Bhutan', 'USFSA',\n       'Winnipeg Shamrocks', 'Matrero II', 'Lemzos Thorichton \"Psara\"',\n       'Esterel', 'Diabolo St Maurice', 'Red Indian', 'Gilliatt V',\n       'Unique', 'Vision', 'Marga', 'Aschenbrodel', 'Ravel', 'Skum',\n       'Miss Denmark 1964', 'Grifone', 'Humbug V', 'Tramontane',\n       \"Qu'Importe\", 'Aloha II', 'Astrid III', 'Vietnam', 'South Vietnam',\n       'Canopus', 'Amolgavar', 'Acturus', 'Rose Pompon', 'Kln',\n       'DemiMondaine', 'Notavel', 'Galopin De La Font', 'Margaret',\n       'Frip IV', 'Aldebaran II', 'Milwaukee Turnverein, Milwaukee',\n       'Tonga', 'Bylina', 'Italia', 'Ciocca II', 'Ciocca',\n       'Bucintoro Venezia', 'Cincinnati Archers',\n       'Royal Club Nautique de Gand', 'Saint Kitts and Nevis', 'Pimm',\n       'Nephos I', 'Guyoni', 'Fortuna', 'Starlight III', 'Sidi Fekkar',\n       'SidiFekkar', 'White Lady', 'Cambridge University Boat Club',\n       'Devon and Somerset Wanderers', 'Tichiboo', 'Saskia',\n       'France/Great Britain', 'Patricia', 'Kalayaan', 'Comanche',\n       'United States Golf Association', 'Acipactli', 'Yeoman', 'Combine',\n       'Cambria', 'Cicely', \"Ma'Lindo\", 'RalClub Barcelona', 'Harmony',\n       'Posillipo III', 'Kosovo', 'Clementine V', 'John B', 'Beaver',\n       'Bagatelle Polo Club, Paris', 'Compigne Polo Club',\n       \"Christian Brothers' College\", 'Joy', 'Sorais',\n       'Independent Rowing Club', 'Dinah V', 'Foxhunters Hurlingham',\n       'MarieTim', 'Philadelphia Turngemeinde, Philadelphia', 'Gyrinus',\n       'Twins II', 'Voloira II', 'Subbnboana', 'Orion', 'Heira II',\n       'Berliner Ruderclub SportBorussia', 'Tineke', 'PousseMoi Pas VII',\n       'Tantalus', 'Ingegerd', 'Socialer Turnverein, Detroit', 'Cobweb',\n       'Brat', 'Boston Archers', 'Escapade', 'Terrible',\n       'Argonaut Rowing Club', 'Bera', 'Irene', 'Merope',\n       'Passaic Turnverein, Passaic', 'Heroine',\n       'Australia/Great Britain', 'Scaup', 'Jet', 'Stade Franais AC',\n       'Legionario', 'Merope III', 'Vento Sul', 'Aphrodite', 'Caprice',\n       'Dominica', 'Elisabeth X', 'Struten', 'Andorinha', 'Grifo III',\n       'Grifo IV', 'Ludwigshafener Ruder Verein',\n       'Ludwigshafener Ruderverein', 'Pupilles de Neptune de Lille #2',\n       'Ylliam II', 'Ylliam VII', 'Ylliam VIII', 'Paka V', 'Brigantia',\n       'Vicking', 'Espardate', 'Espadarte', 'Kannibaltje', 'Xantippa',\n       'Mound City Rowing Club', 'Helsingfors R. K.', 'Scotland',\n       'Newfoundland', 'Fram III', 'Mizar', 'Allegro', 'Virginie',\n       'Lalage', 'Galt Football Club', 'BLO Polo Club, Rugby',\n       'Hurlingham', 'Socit Nautique de la Basse Seine',\n       'Western Rowing Club', 'Naiad', 'Pakaria', 'Gustel V',\n       'St. Louis Southwest Turnverein #2', 'St. Rose', 'Essen',\n       'Miss Nippon V', 'Gteborgs Roddfrening', 'Burundi', 'Girl Pat',\n       'Gullvinge', 'Bajazzo', 'Mouchette', 'IngaLill XXXXIII', 'Cinara',\n       'Namoussa', 'Ilderim', 'Club Nautique de Dieppe',\n       'PanHellenic Athletic Club', 'Nausikaa 4', 'Blue Red', 'Baby',\n       'Eritrea', 'Crete', 'Pistoja/Firenze', 'Femur', 'Bamba',\n       'Ballerina IV', 'Smyrna', 'rn', 'Colette', 'Germany/United States',\n       'Germania Ruder Club, Hamburg', 'Hera', 'Favorite', 'Freddy',\n       'Chicago Athletic Association', 'Rika II', 'Korshun', 'Ariel',\n       'Trickson VI', 'Springbok', 'Santa Maria', 'Quicksilver',\n       'Calypse II', 'SagaII', 'Sjhxa', 'Ciocca III', 'Alcaid',\n       'Hungaria Evezos Egylet', 'Jupiter', 'Three Leaves', 'Scotia',\n       'Paka', 'WillemSix', 'Gitana', 'Societ Nautique de la Marne',\n       'Pan II', 'Rhodesia', 'Pasodoble', 'Kingfisher', 'Yangon', 'Saga',\n       'Sass', 'Roy', 'Deutscher Schwimm Verband Berlin', 'Web II',\n       'Salamander', 'Magda IX', 'Norwegian Rowing Association',\n       'Comoros', 'Potomac Archers', 'Galatea II', 'Twins VIII',\n       'Bellatrix IX', 'Bellatrix XIII', 'Teresita', 'Berliner Ruderclub',\n       'Esperia', 'Ciss', 'Hakahana', 'Concordia Turnverein, St Louis',\n       'Osborne Swimming Club, Manchester', 'Persey', 'Glider', 'Kullan',\n       'Fram', 'Tilly', 'Lynn', 'Turnverein Vorwrts, Cleveland',\n       'Red Dragon', 'Century Boat Club', 'Atlanta', 'Rush V', 'Rush VII',\n       'Ceres II', 'Moorina', 'Vinha', 'Buraddoo', 'Starita', 'Bem II',\n       'Partenope', 'Impala', 'Swedish Star', 'Vaxholm Roddklubb', 'Lett',\n       'Elsie', 'Pannonia RC/National RC', 'Riccar', 'Myojo',\n       'Lucky Girl', 'Squid III', 'Gabon',\n       'Pupilles de Neptune de Lille #1', 'Pupilles de Neptune de Lille',\n       'Falcon VI', 'Miss Nippon IV', 'Chicago Archers', 'Bona Fide',\n       'Olimpia', 'Sarcelle', 'Minerva Amsterdam', 'Mamie', 'C.V.A.',\n       'QuandMme', 'Singy', 'Sans Atout', 'Frieda', 'Nurdug II',\n       'Gustel X', 'Gustl XI', 'Leander Club #1', 'Baccara', 'Hamburg',\n       'Mac Miche', 'Camille', 'Tuvalu', 'Tritons Lillois', 'Neptun II',\n       'Marmi II', 'Great Britain/Germany', 'Bermudian',\n       'South St Louis Turnverein, St Louis',\n       'Panhellenios Gymnastikos Syllogos', 'Cuxhaven', 'Raili',\n       'Lully II', 'Tomahawk II', 'Marmara', 'Suzy', 'Arcturus',\n       'Crabe II', 'Formosa', 'New York Athletic Club #2', 'Danzig',\n       'Trintel II', 'TanFePah', 'Boreas', 'DeRuyter', 'Johan', 'Viking',\n       'Hornet', 'South Sudan', \"Cercle de l'Aviron Roubaix\", 'Chance',\n       'Yeoman V', 'Knigsberg', 'Babe', 'Daisy', 'Don Schufro', 'Dolfijn',\n       'Syndi', 'KNS', 'Fada', \"L'Aile VI\", 'Sandra', 'Ormsund Roklub',\n       'Lbeck', 'Beatrijs III', 'Lancet', 'Bissbi',\n       'Ravenswood Boat Club', 'Amstel Amsterdam', 'Whisper', 'Balaton',\n       'June Climene', 'Web III', 'Laurea', 'Shoveller', 'Skidoo',\n       'Nirwana', 'Dylan', 'Somalia', 'Whirlaway', 'Martha', 'Surprise',\n       'Zut', 'Lucky Star', 'KonTiki', 'MitaII',\n       'R.V. Germania, Leitmeritz', 'Bluebottle', 'Yeoman XII', 'Jill',\n       'Clearwater', 'Angerburg', 'TuFri', 'Slaghoken', 'Bermudes',\n       'Dick', 'Chok', 'Macky VI', 'Nrnberg', 'Tengiri', 'Hayama',\n       'Tournade', 'Tornade', 'Galejan', 'Dormy', 'Rozenn', 'Jest',\n       'Peri II', 'Akatonbo', 'Elisabeth V',\n       'Life boat naval ship \"Spetsai\"', 'Eissero VI', 'Diablo',\n       'Plumepatte', 'PlumePatte', 'Pierre et Jean', 'Fruits',\n       'Souvenance', 'Meteor', 'Kurush IV', 'Vesania', 'Kurush II',\n       'Crabe I', 'United States/France', 'Camelia', 'Chamukina',\n       'Xolotl', 'Pegaso', 'Ausonia', 'Bu III', 'Lerina', 'Hirondelle',\n       'Venilia', 'St. Margrite', 'Hollandia', 'Bonzo', 'The Cloud',\n       'Mad Dog', 'Hb', 'LaBandera', 'Barion/Bari', 'Fornebo', 'Dresden',\n       'Mignon', 'Paula', 'Oxalis', 'Nina Claire', 'Thalatta', 'Galopin',\n       'Guanahani', 'Unknown', 'Spirit III', 'Bella', 'MayBe 1960',\n       'Lotta IV', 'A North American Team', 'Nirefs', 'Proteus II', 'Pam',\n       'Oleander II', 'Olle', 'Tutti V', 'Primorka', 'ChaCha III',\n       'Augsburg', 'Leander Club #2', 'Encore', 'Gem II', 'Gem III',\n       'Gem IV', 'Gem VII', 'Espuma del Mar', '30. Februar', 'Evita VI',\n       'Cercle Nautique de Reims', 'Salinero', 'Atalanta Boat Club',\n       'Sildra', 'Sjovinge', 'Maryke', 'Zefyros', 'Wendehals', 'Tip',\n       'Brandenburg', 'Spirit VI', 'Sunshine', 'Freia', 'Hojwa',\n       'Three Star Too', 'Argo II', 'Serendipity', 'Wannsee', 'Oranje',\n       'Satchmo', 'Scram', 'Glisten', 'WolseleySiddeley', 'Sea Dog',\n       'Mainz', 'Slaghoken II', 'Solos Carex', 'Kathleen', 'Roehampton',\n       'Ancora', 'Dow Jones', 'Druzhba', 'Digby', 'Mari',\n       'Ethnikos Gymnastikos Syllogos', 'Bim', 'Bonaparte', 'GyoshuII',\n       'Refugee Olympic Athletes', 'Mythilus', 'Rambo', 'Floresco', 'Gem',\n       'Lucky', 'Sonja II', 'Rostock', 'Olympion', 'Covunco III',\n       'Tajamar', 'Heidelberg', 'Amulet', 'Crocodile', 'Leipzig',\n       'Snowten III', 'Alcyon', 'Suzon IV', 'Mutafo', 'Oman',\n       'Burevestnik', 'Galerna', 'Breslau', 'Norna', 'Linglom',\n       'Carabinier', 'PettitPoucet', 'Snap', 'Firebird II', 'Konstanz',\n       'Mistral Hojris', 'Symphony', 'Nora', 'Circus', 'Widgeon', 'Inca',\n       'Relampago', 'Sirene', 'Snude', 'Peri', 'SiamesCat', 'Tom Kyle',\n       'North Borneo', 'Buscape II', 'Pigoule', 'Mascaret', 'Calcinhas',\n       'Holland', 'Frimousse', 'Gyp', 'Pirouette', 'Romolo', 'Mebi',\n       'Brentina', 'Uragan', 'Nan', 'Hannover', 'Scamasaxe', 'Antares',\n       'Jeanette', 'Jeannette', 'Turquoise', 'Nadine', 'Twinkle', 'Ducky',\n       'Souriceau', 'Lady C', 'Swift', 'Marsouin', 'Pop Art', 'Bremen',\n       'Quando Quando', 'Whitini Star', 'Nikh', 'Briar', 'Gabbiano',\n       'Gran Gesto', 'Edelweiss II', 'AliBaba IV', 'AliBaba VI',\n       'AliBaba IX', 'Brynhild', 'Elvis Va', 'Calimucho', 'Kiel'],\n      dtype=object)"
     },
     "execution_count": 21,
     "metadata": {},
     "output_type": "execute_result"
    }
   ],
   "source": [
    "olympics_new = olympics.replace(to_replace='\\-[0-9]*', value='', regex=True)\n",
    "olympics_new.Team.unique()"
   ],
   "metadata": {
    "collapsed": false
   }
  },
  {
   "cell_type": "markdown",
   "source": [
    "Lots of rubbish still. Screw that, I'm getting rid of not real countries."
   ],
   "metadata": {
    "collapsed": false
   }
  },
  {
   "cell_type": "code",
   "execution_count": 22,
   "outputs": [
    {
     "data": {
      "text/plain": "array(['Enotria', 'Emily', 'Feo', 'Verveine',\n       'Union des Socits Franais de Sports Athletiques', 'Rhythm',\n       'Llanoria', 'St. Louis Southwest Turnverein #1', 'Bohemia',\n       'Bohemia/Great Britain', 'New York Turnverein, New York', 'Kitty',\n       'Libellule de Paris', 'Saar', 'Australasia',\n       'St. Louis Amateur Athletic Association', 'Sydney Rowing Club',\n       'Marinai della nave da guerra \"Varese\"', 'Roma', 'Ariette',\n       'Roddklubben af 1912', 'La Salle Turnverein, Chicago',\n       'Cupidon Viking', 'Alain IV', 'Thames Rowing Club',\n       'Federated States of Micronesia', 'Damoiselle',\n       'Amateur Athletic Association', 'Jo', 'New York Athletic Club',\n       'New York Athletic Club #1', 'Yeoman VII',\n       'Berliner Ruderverein von 1876', 'Favorite Hammonia', 'Bolivia',\n       'Greenoaks Dundee', 'Seawanhaka Boat Club', 'Gteborgs Roddklubb',\n       'Aletta', 'Sif', 'Hatuey', 'Laos', 'Fantlet', 'Maid of Lebanon',\n       'Nortazo', 'Umberta V', 'Socit Nautique de Bayonne', 'Danaldo',\n       \"Cote d'Ivoire\", 'Nautikos Omilos', 'Pampero', 'Tango', 'Mirtala',\n       'May Be', 'AliBaba II', 'May Be VII', 'Argus', 'Erna Signe',\n       'Chaje II', 'Lyn', 'Noreg', 'Vinga', 'Kerstin', 'Sylvia',\n       'Heatherbell', 'Finn II', 'Leander Club',\n       'United States/Great Britain', 'Malaya', 'Peiraikos Syndesmos',\n       'Netherlands Antilles', 'Barrenjoey', 'Thessalonki',\n       'Racing Club de France', 'Aldebaran', 'Dansk Idrts Forbund',\n       'Club Nautique de Franais', 'Western Golf Association',\n       'South Yemen', 'British Virgin Islands', 'Rififi', 'Donar III',\n       'Germania II', 'EA II', 'Vesper Boat Club', 'Sunrise', 'Anitra',\n       'Studenternes Roklub', 'Mosk II', 'Gwendoline', 'HiHi',\n       'Denmark/Sweden', 'Silja', 'Frankfurt Club', 'Rush IV',\n       'Complex II', 'Bronia', 'Barco Deloro', 'Gallia II', 'Kemphaan',\n       'Turnverein Vorwrts, Chicago', 'Missouri Athletic Club',\n       'TimTam III', 'Central Turnverein, Chicago', 'Boer Team',\n       'Falcon IV', 'Potsdam', 'Bingo', 'Cupidon III',\n       'Milwaukee Athletic Club', 'Giselle',\n       'TransMississippi Golf Association',\n       'Brussels Swimming and Water Polo Club', 'Tlaloc',\n       'Chinese Taipei', 'Kuling', 'Titia', 'Olen', 'Nokaut II', 'Almaz',\n       'Wales', 'London City Police', 'Angelita', 'Tulilind', 'Tornado',\n       'Taifun', 'Ardilla', 'Wiking', 'Djinn', 'Rampage', 'Fantasio III',\n       'Danuta', 'Sheerio', 'Faneca', 'Windor', 'Oleander XII',\n       'Polyteknisk Roklub', 'Toronto Argonauts', 'Vim III', 'Athens',\n       'Ralia', 'Freja', 'K.S.S.S. 1912', 'Lasha', 'Monica', 'State VI',\n       'K Division Metropolitan Police Team', 'Hilarius',\n       'Roklubb Kbnhavn', 'Gallant', 'Minotaur', 'Sibindi',\n       'Liverpool Police Team', 'Chuckles', 'Moseley Wanderers',\n       'Mascotte', 'Mohawk Indians', 'Ubu', 'Timor Leste',\n       'West Indies Federation', 'Damoiselle IV',\n       'Large boat, Central Naval Prep School \"Poros\"',\n       'Kristiania Roklub', 'Apache', 'Cornwall', 'Sabre',\n       'Magdalen College Boat Club', 'Davenport Turngemeinde, Davenport',\n       'Aretusa', 'Argeste', 'Norwegier Turnverein, Brooklyn',\n       'Club Nautique de Lyon', 'Phalainis ton Thorichtou \"Hydra\"',\n       'Morena', 'Eleda', 'Upton Park FC',\n       'Phalainis ton Thorichtou \"Psara\"', 'Univ. of Brussels', nan,\n       'Rowing Club Castillon', 'Omas Helliniki P. S.',\n       'Omilos Ereton Peiraios', 'Lemzos Thorichton \"Spetsai\"', 'Gam II',\n       'Phoenix', 'New College, Oxford', 'Shrew II', 'Andromeda',\n       'Viktoriya', 'Manana', 'Pan', 'Antwerpia V', 'Mystery',\n       'Omilos Ereton Smyrnis', 'Norman', 'Nykjbings paa Falster',\n       'Pandora', 'Stella', 'Nina', 'USFSA', 'Winnipeg Shamrocks',\n       'Matrero II', 'Lemzos Thorichton \"Psara\"', 'Esterel',\n       'Diabolo St Maurice', 'Red Indian', 'Gilliatt V', 'Unique',\n       'Vision', 'Marga', 'Aschenbrodel', 'Ravel', 'Skum',\n       'Miss Denmark 1964', 'Grifone', 'Humbug V', 'Tramontane',\n       \"Qu'Importe\", 'Aloha II', 'Astrid III', 'Canopus', 'Amolgavar',\n       'Acturus', 'Rose Pompon', 'Kln', 'DemiMondaine', 'Notavel',\n       'Galopin De La Font', 'Margaret', 'Frip IV', 'Aldebaran II',\n       'Milwaukee Turnverein, Milwaukee', 'Bylina', 'Ciocca II', 'Ciocca',\n       'Bucintoro Venezia', 'Cincinnati Archers',\n       'Royal Club Nautique de Gand', 'Pimm', 'Nephos I', 'Guyoni',\n       'Fortuna', 'Starlight III', 'Sidi Fekkar', 'SidiFekkar',\n       'White Lady', 'Cambridge University Boat Club',\n       'Devon and Somerset Wanderers', 'Tichiboo', 'Saskia', 'Patricia',\n       'Kalayaan', 'Comanche', 'United States Golf Association',\n       'Acipactli', 'Yeoman', 'Combine', 'Cambria', 'Cicely', \"Ma'Lindo\",\n       'RalClub Barcelona', 'Harmony', 'Posillipo III', 'Clementine V',\n       'John B', 'Beaver', 'Bagatelle Polo Club, Paris',\n       'Compigne Polo Club', \"Christian Brothers' College\", 'Joy',\n       'Sorais', 'Independent Rowing Club', 'Dinah V',\n       'Foxhunters Hurlingham', 'MarieTim',\n       'Philadelphia Turngemeinde, Philadelphia', 'Gyrinus', 'Twins II',\n       'Voloira II', 'Subbnboana', 'Orion', 'Heira II',\n       'Berliner Ruderclub SportBorussia', 'Tineke', 'PousseMoi Pas VII',\n       'Tantalus', 'Ingegerd', 'Socialer Turnverein, Detroit', 'Cobweb',\n       'Brat', 'Boston Archers', 'Escapade', 'Terrible',\n       'Argonaut Rowing Club', 'Bera', 'Irene', 'Merope',\n       'Passaic Turnverein, Passaic', 'Heroine', 'Scaup', 'Jet',\n       'Stade Franais AC', 'Legionario', 'Merope III', 'Vento Sul',\n       'Aphrodite', 'Caprice', 'Elisabeth X', 'Struten', 'Andorinha',\n       'Grifo III', 'Grifo IV', 'Ludwigshafener Ruder Verein',\n       'Ludwigshafener Ruderverein', 'Pupilles de Neptune de Lille #2',\n       'Ylliam II', 'Ylliam VII', 'Ylliam VIII', 'Paka V', 'Brigantia',\n       'Vicking', 'Espardate', 'Espadarte', 'Kannibaltje', 'Xantippa',\n       'Mound City Rowing Club', 'Helsingfors R. K.', 'Newfoundland',\n       'Fram III', 'Mizar', 'Allegro', 'Virginie', 'Lalage',\n       'Galt Football Club', 'BLO Polo Club, Rugby', 'Hurlingham',\n       'Socit Nautique de la Basse Seine', 'Western Rowing Club', 'Naiad',\n       'Pakaria', 'Gustel V', 'St. Louis Southwest Turnverein #2',\n       'St. Rose', 'Essen', 'Miss Nippon V', 'Gteborgs Roddfrening',\n       'Girl Pat', 'Gullvinge', 'Bajazzo', 'Mouchette',\n       'IngaLill XXXXIII', 'Cinara', 'Namoussa', 'Ilderim',\n       'Club Nautique de Dieppe', 'PanHellenic Athletic Club',\n       'Nausikaa 4', 'Blue Red', 'Baby', 'Crete', 'Pistoja/Firenze',\n       'Femur', 'Bamba', 'Ballerina IV', 'Smyrna', 'rn', 'Colette',\n       'Germany/United States', 'Germania Ruder Club, Hamburg', 'Hera',\n       'Favorite', 'Freddy', 'Chicago Athletic Association', 'Rika II',\n       'Korshun', 'Ariel', 'Trickson VI', 'Springbok', 'Santa Maria',\n       'Quicksilver', 'Calypse II', 'SagaII', 'Sjhxa', 'Ciocca III',\n       'Alcaid', 'Hungaria Evezos Egylet', 'Jupiter', 'Three Leaves',\n       'Scotia', 'Paka', 'WillemSix', 'Gitana',\n       'Societ Nautique de la Marne', 'Pan II', 'Rhodesia', 'Pasodoble',\n       'Kingfisher', 'Yangon', 'Saga', 'Sass', 'Roy',\n       'Deutscher Schwimm Verband Berlin', 'Web II', 'Salamander',\n       'Magda IX', 'Norwegian Rowing Association', 'Potomac Archers',\n       'Galatea II', 'Twins VIII', 'Bellatrix IX', 'Bellatrix XIII',\n       'Teresita', 'Berliner Ruderclub', 'Esperia', 'Ciss', 'Hakahana',\n       'Concordia Turnverein, St Louis',\n       'Osborne Swimming Club, Manchester', 'Persey', 'Glider', 'Kullan',\n       'Fram', 'Tilly', 'Lynn', 'Turnverein Vorwrts, Cleveland',\n       'Red Dragon', 'Century Boat Club', 'Atlanta', 'Rush V', 'Rush VII',\n       'Ceres II', 'Moorina', 'Vinha', 'Buraddoo', 'Starita', 'Bem II',\n       'Partenope', 'Impala', 'Swedish Star', 'Vaxholm Roddklubb', 'Lett',\n       'Elsie', 'Pannonia RC/National RC', 'Riccar', 'Myojo',\n       'Lucky Girl', 'Squid III', 'Pupilles de Neptune de Lille #1',\n       'Pupilles de Neptune de Lille', 'Falcon VI', 'Miss Nippon IV',\n       'Chicago Archers', 'Bona Fide', 'Olimpia', 'Sarcelle',\n       'Minerva Amsterdam', 'Mamie', 'C.V.A.', 'QuandMme', 'Singy',\n       'Sans Atout', 'Frieda', 'Nurdug II', 'Gustel X', 'Gustl XI',\n       'Leander Club #1', 'Baccara', 'Hamburg', 'Mac Miche', 'Camille',\n       'Tritons Lillois', 'Neptun II', 'Marmi II',\n       'Great Britain/Germany', 'Bermudian',\n       'South St Louis Turnverein, St Louis',\n       'Panhellenios Gymnastikos Syllogos', 'Cuxhaven', 'Raili',\n       'Lully II', 'Tomahawk II', 'Marmara', 'Suzy', 'Arcturus',\n       'Crabe II', 'Formosa', 'New York Athletic Club #2', 'Danzig',\n       'Trintel II', 'TanFePah', 'Boreas', 'DeRuyter', 'Johan', 'Viking',\n       'Hornet', \"Cercle de l'Aviron Roubaix\", 'Chance', 'Yeoman V',\n       'Knigsberg', 'Babe', 'Daisy', 'Don Schufro', 'Dolfijn', 'Syndi',\n       'KNS', 'Fada', \"L'Aile VI\", 'Sandra', 'Ormsund Roklub', 'Lbeck',\n       'Beatrijs III', 'Lancet', 'Bissbi', 'Ravenswood Boat Club',\n       'Amstel Amsterdam', 'Whisper', 'Balaton', 'June Climene',\n       'Web III', 'Laurea', 'Shoveller', 'Skidoo', 'Nirwana', 'Dylan',\n       'Whirlaway', 'Martha', 'Surprise', 'Zut', 'Lucky Star', 'KonTiki',\n       'MitaII', 'R.V. Germania, Leitmeritz', 'Bluebottle', 'Yeoman XII',\n       'Jill', 'Clearwater', 'Angerburg', 'TuFri', 'Slaghoken',\n       'Bermudes', 'Dick', 'Chok', 'Macky VI', 'Nrnberg', 'Tengiri',\n       'Hayama', 'Tournade', 'Tornade', 'Galejan', 'Dormy', 'Rozenn',\n       'Jest', 'Peri II', 'Akatonbo', 'Elisabeth V',\n       'Life boat naval ship \"Spetsai\"', 'Eissero VI', 'Diablo',\n       'Plumepatte', 'PlumePatte', 'Pierre et Jean', 'Fruits',\n       'Souvenance', 'Meteor', 'Kurush IV', 'Vesania', 'Kurush II',\n       'Crabe I', 'United States/France', 'Camelia', 'Chamukina',\n       'Xolotl', 'Pegaso', 'Ausonia', 'Bu III', 'Lerina', 'Hirondelle',\n       'Venilia', 'St. Margrite', 'Hollandia', 'Bonzo', 'The Cloud',\n       'Mad Dog', 'Hb', 'LaBandera', 'Barion/Bari', 'Fornebo', 'Dresden',\n       'Mignon', 'Paula', 'Oxalis', 'Nina Claire', 'Thalatta', 'Galopin',\n       'Guanahani', 'Unknown', 'Spirit III', 'Bella', 'MayBe 1960',\n       'Lotta IV', 'A North American Team', 'Nirefs', 'Proteus II', 'Pam',\n       'Oleander II', 'Olle', 'Tutti V', 'Primorka', 'ChaCha III',\n       'Augsburg', 'Leander Club #2', 'Encore', 'Gem II', 'Gem III',\n       'Gem IV', 'Gem VII', 'Espuma del Mar', '30. Februar', 'Evita VI',\n       'Cercle Nautique de Reims', 'Salinero', 'Atalanta Boat Club',\n       'Sildra', 'Sjovinge', 'Maryke', 'Zefyros', 'Wendehals', 'Tip',\n       'Brandenburg', 'Spirit VI', 'Sunshine', 'Freia', 'Hojwa',\n       'Three Star Too', 'Argo II', 'Serendipity', 'Wannsee', 'Oranje',\n       'Satchmo', 'Scram', 'Glisten', 'WolseleySiddeley', 'Sea Dog',\n       'Mainz', 'Slaghoken II', 'Solos Carex', 'Kathleen', 'Roehampton',\n       'Ancora', 'Dow Jones', 'Druzhba', 'Digby', 'Mari',\n       'Ethnikos Gymnastikos Syllogos', 'Bim', 'Bonaparte', 'GyoshuII',\n       'Refugee Olympic Athletes', 'Mythilus', 'Rambo', 'Floresco', 'Gem',\n       'Lucky', 'Sonja II', 'Rostock', 'Olympion', 'Covunco III',\n       'Tajamar', 'Heidelberg', 'Amulet', 'Crocodile', 'Leipzig',\n       'Snowten III', 'Alcyon', 'Suzon IV', 'Mutafo', 'Burevestnik',\n       'Galerna', 'Breslau', 'Norna', 'Linglom', 'Carabinier',\n       'PettitPoucet', 'Snap', 'Firebird II', 'Konstanz',\n       'Mistral Hojris', 'Symphony', 'Nora', 'Circus', 'Widgeon', 'Inca',\n       'Relampago', 'Sirene', 'Snude', 'Peri', 'SiamesCat', 'Tom Kyle',\n       'North Borneo', 'Buscape II', 'Pigoule', 'Mascaret', 'Calcinhas',\n       'Frimousse', 'Gyp', 'Pirouette', 'Romolo', 'Mebi', 'Brentina',\n       'Uragan', 'Nan', 'Hannover', 'Scamasaxe', 'Antares', 'Jeanette',\n       'Jeannette', 'Turquoise', 'Nadine', 'Twinkle', 'Ducky',\n       'Souriceau', 'Lady C', 'Swift', 'Marsouin', 'Pop Art', 'Bremen',\n       'Quando Quando', 'Whitini Star', 'Nikh', 'Briar', 'Gabbiano',\n       'Gran Gesto', 'Edelweiss II', 'AliBaba IV', 'AliBaba VI',\n       'AliBaba IX', 'Brynhild', 'Elvis Va', 'Calimucho', 'Kiel'],\n      dtype=object)"
     },
     "execution_count": 22,
     "metadata": {},
     "output_type": "execute_result"
    }
   ],
   "source": [
    "real_countries= ['Afghanistan', 'Aland Islands', 'Albania', 'Algeria', 'American Samoa', 'Andorra', 'Angola', 'Anguilla', 'Antarctica', 'Antigua and Barbuda', 'Argentina', 'Armenia', 'Aruba', 'Australia', 'Austria', 'Azerbaijan', 'Bahamas', 'Bahrain', 'Bangladesh', 'Barbados', 'Belarus', 'Belgium', 'Belize', 'Benin', 'Bermuda', 'Bhutan', 'Bolivia, Plurinational State of', 'Bonaire, Sint Eustatius and Saba', 'Bosnia and Herzegovina', 'Botswana', 'Bouvet Island', 'Brazil', 'British Indian Ocean Territory', 'Brunei', 'Bulgaria', 'Burkina Faso', 'Burma', 'Burundi', 'Cambodia', 'Cameroon', 'Canada', 'Cape Verde', 'Cayman Islands', 'Central African Republic', 'Chad', 'Czechoslovakia', 'Chile', 'China', 'Christmas Island', 'Cocos (Keeling) Islands', 'Colombia', 'Comoros', 'Congo', 'Congo, The Democratic Republic of the', 'Congo (Brazzaville)', 'Congo (Kinshasa)', 'Cook Islands', 'Costa Rica', \"Côte d'Ivoire\", 'Croatia', 'Cuba', 'Curaçao', 'Cyprus', 'Czech Republic', 'Denmark', 'Djibouti', 'Dominica', 'Dominican Republic', 'East Germany', 'Ecuador', 'Egypt', 'El Salvador', 'England', 'Equatorial Guinea', 'Eritrea', 'Estonia', 'Ethiopia', 'Falkland Islands (Malvinas)', 'Faroe Islands', 'Fiji', 'Finland', 'France', 'French Guiana', 'French Polynesia', 'French Southern Territories', 'Gabon', 'Gambia', 'Georgia', 'Germany', 'Ghana', 'Gibraltar', 'Great Britain', 'Greece', 'Greenland', 'Grenada', 'Guadeloupe', 'Guam', 'Guatemala', 'Guernsey', 'Guinea', 'Guinea Bissau', 'Guyana', 'Haiti', 'Heard Island and McDonald Islands', 'Holy See (Vatican City State)', 'Honduras', 'Hong Kong', 'Hungary', 'Iceland', 'India', 'Indonesia', 'Iran, Islamic Republic of', 'Iraq', 'Ireland', 'Isle of Man', 'Israel', 'Italy', 'Jamaica', 'Japan', 'Jersey', 'Jordan', 'Kazakhstan', 'Kenya', 'Kiribati', \"Korea, Democratic People's Republic of\", 'Korea, Republic of', 'Kuwait', 'Kyrgyzstan', \"Lao People's Democratic Republic\", 'Latvia', 'Lebanon', 'Lesotho', 'Liberia', 'Libya', 'Liechtenstein', 'Lithuania', 'Luxembourg', 'Macao', 'Macedonia, Republic of', 'Madagascar', 'Malawi', 'Malaysia', 'Maldives', 'Mali', 'Malta', 'Marshall Islands', 'Martinique', 'Mauritania', 'Mauritius', 'Mayotte', 'Mexico', 'Micronesia, Federated States of', 'Moldova', 'Monaco', 'Mongolia', 'Montenegro', 'Montserrat', 'Morocco', 'Mozambique', 'Myanmar', 'Namibia', 'Nauru', 'Nepal', 'Netherlands', 'New Caledonia', 'New Zealand', 'Nicaragua', 'Niger', 'Nigeria', 'Niue', 'Norfolk Island', 'Northern Mariana Islands', 'North Korea', 'Norway', 'Oman', 'Pakistan', 'Palau', 'Palestine', 'Panama', 'Papua New Guinea', 'Paraguay', 'Peru', 'Philippines', 'Pitcairn', 'Poland', 'Portugal', 'Puerto Rico', 'Qatar', 'Réunion', 'Romania', 'Russia', 'Rwanda', 'Saint Barthélemy', 'Saint Helena, Ascension and Tristan da Cunha', 'Saint Kitts and Nevis', 'Saint Lucia', 'Saint Martin (French part)', 'Saint Pierre and Miquelon', 'Saint Vincent and the Grenadines', 'Samoa', 'San Marino', 'Sao Tome and Principe', 'Saudi Arabia', 'Senegal', 'Serbia', 'Serbia and Montenegro', 'Seychelles', 'Sierra Leone', 'Singapore', 'Sint Maarten (Dutch part)', 'Slovakia', 'Slovenia', 'Solomon Islands', 'Somalia', 'Soviet Union', 'South Africa', 'South Georgia and the South Sandwich Islands', 'Spain', 'Sri Lanka', 'Sudan', 'Suriname', 'South Korea', 'South Sudan', 'Svalbard and Jan Mayen', 'Swaziland', 'Sweden', 'Switzerland', 'Syria', 'Taiwan', 'Tajikistan', 'Tanzania, United Republic of', 'Thailand', 'Timor-Leste', 'Togo', 'Tokelau', 'Tonga', 'Trinidad and Tobago', 'Tunisia', 'Turkey', 'Turkmenistan', 'Turks and Caicos Islands', 'Tuvalu', 'Uganda', 'Ukraine', 'Unified Team', 'United Arab Emirates', 'United States', 'United States Minor Outlying Islands', 'United States Virgin Islands','Uruguay', 'Uzbekistan', 'Vanuatu', 'Venezuela', 'Vietnam', 'Virgin Islands, British', 'Virgin Islands', 'Wallis and Futuna', 'West Germany', 'Yemen', 'Yugoslavia', 'Zambia', 'Zimbabwe', 'Individual Olympic Athletes', 'South Vietnam', 'Iran', 'United Arab Republic', 'France/Great Britain', 'Australia/Great Britain', 'Scotland', 'North Yemen', 'Comoros', 'Oman', 'Tanzania', 'Holland', 'Macedonia', 'Hungaria', 'Italia', 'Kosovo', ]\n",
    "\n",
    "rubbish = olympics_new.query('Team not in @real_countries')\n",
    "rubbish.Team.unique()"
   ],
   "metadata": {
    "collapsed": false
   }
  },
  {
   "cell_type": "code",
   "execution_count": 23,
   "outputs": [],
   "source": [
    "olympics_filtered = olympics_new.loc[olympics_new['Team'].isin(real_countries)]"
   ],
   "metadata": {
    "collapsed": false
   }
  },
  {
   "cell_type": "markdown",
   "source": [
    "Is's also possible to compare teams' names with NOC code and replace some mistakes, but I don't have endless time."
   ],
   "metadata": {
    "collapsed": false
   }
  },
  {
   "cell_type": "markdown",
   "source": [
    "Next, I've noticed some gender difficulties here. What is sex \"G\"?!"
   ],
   "metadata": {
    "collapsed": false
   }
  },
  {
   "cell_type": "code",
   "execution_count": 33,
   "outputs": [
    {
     "data": {
      "text/plain": "array(['M', 'F', 'G'], dtype=object)"
     },
     "execution_count": 33,
     "metadata": {},
     "output_type": "execute_result"
    }
   ],
   "source": [
    "olympics_filtered.Sex.unique()"
   ],
   "metadata": {
    "collapsed": false
   }
  },
  {
   "cell_type": "code",
   "execution_count": 34,
   "outputs": [
    {
     "data": {
      "text/plain": "       ID               Name Sex   Age  Height  Weight            Team  NOC  \\\n42  79609         Pavel Mike   G  22.0   182.0    79.0  Czechoslovakia  TCH   \n74  79630  Anatoly Mikhaylin   G  37.0     NaN     NaN          Russia  RUS   \n\n          Games    Year  Season     City     Sport  \\\n42  1972 Summer  1972.0  Summer   Munich  Handball   \n74  1996 Summer  1996.0  Summer  Atlanta   Sailing   \n\n                                Event   Medal  \n42            Handball Men's Handball  Silver  \n74  Sailing Mixed Two Person Keelboat     NaN  ",
      "text/html": "<div>\n<style scoped>\n    .dataframe tbody tr th:only-of-type {\n        vertical-align: middle;\n    }\n\n    .dataframe tbody tr th {\n        vertical-align: top;\n    }\n\n    .dataframe thead th {\n        text-align: right;\n    }\n</style>\n<table border=\"1\" class=\"dataframe\">\n  <thead>\n    <tr style=\"text-align: right;\">\n      <th></th>\n      <th>ID</th>\n      <th>Name</th>\n      <th>Sex</th>\n      <th>Age</th>\n      <th>Height</th>\n      <th>Weight</th>\n      <th>Team</th>\n      <th>NOC</th>\n      <th>Games</th>\n      <th>Year</th>\n      <th>Season</th>\n      <th>City</th>\n      <th>Sport</th>\n      <th>Event</th>\n      <th>Medal</th>\n    </tr>\n  </thead>\n  <tbody>\n    <tr>\n      <th>42</th>\n      <td>79609</td>\n      <td>Pavel Mike</td>\n      <td>G</td>\n      <td>22.0</td>\n      <td>182.0</td>\n      <td>79.0</td>\n      <td>Czechoslovakia</td>\n      <td>TCH</td>\n      <td>1972 Summer</td>\n      <td>1972.0</td>\n      <td>Summer</td>\n      <td>Munich</td>\n      <td>Handball</td>\n      <td>Handball Men's Handball</td>\n      <td>Silver</td>\n    </tr>\n    <tr>\n      <th>74</th>\n      <td>79630</td>\n      <td>Anatoly Mikhaylin</td>\n      <td>G</td>\n      <td>37.0</td>\n      <td>NaN</td>\n      <td>NaN</td>\n      <td>Russia</td>\n      <td>RUS</td>\n      <td>1996 Summer</td>\n      <td>1996.0</td>\n      <td>Summer</td>\n      <td>Atlanta</td>\n      <td>Sailing</td>\n      <td>Sailing Mixed Two Person Keelboat</td>\n      <td>NaN</td>\n    </tr>\n  </tbody>\n</table>\n</div>"
     },
     "execution_count": 34,
     "metadata": {},
     "output_type": "execute_result"
    }
   ],
   "source": [
    "olympics_filtered.query('Sex == \"G\"')"
   ],
   "metadata": {
    "collapsed": false
   }
  },
  {
   "cell_type": "markdown",
   "source": [
    "They both must be man, I hope. Watch it fixed."
   ],
   "metadata": {
    "collapsed": false
   }
  },
  {
   "cell_type": "code",
   "execution_count": 41,
   "outputs": [
    {
     "data": {
      "text/plain": "array(['M', 'F'], dtype=object)"
     },
     "execution_count": 41,
     "metadata": {},
     "output_type": "execute_result"
    }
   ],
   "source": [
    "olympics_filtered.loc[[42, 74], 'Sex'] = 'M'\n",
    "olympics_filtered.Sex.unique()"
   ],
   "metadata": {
    "collapsed": false
   }
  },
  {
   "cell_type": "markdown",
   "source": [
    "There is also one Height outlier (340)."
   ],
   "metadata": {
    "collapsed": false
   }
  },
  {
   "cell_type": "code",
   "execution_count": 43,
   "outputs": [
    {
     "data": {
      "text/plain": "        ID                            Name Sex   Age  Height  Weight  \\\n227  23549  Kirsty Leigh Coventry (Seward)   F  28.0   340.0    64.0   \n\n         Team  NOC        Games    Year  Season    City     Sport  \\\n227  Zimbabwe  ZIM  2012 Summer  2012.0  Summer  London  Swimming   \n\n                                             Event Medal  \n227  Swimming Women's 200 metres Individual Medley   NaN  ",
      "text/html": "<div>\n<style scoped>\n    .dataframe tbody tr th:only-of-type {\n        vertical-align: middle;\n    }\n\n    .dataframe tbody tr th {\n        vertical-align: top;\n    }\n\n    .dataframe thead th {\n        text-align: right;\n    }\n</style>\n<table border=\"1\" class=\"dataframe\">\n  <thead>\n    <tr style=\"text-align: right;\">\n      <th></th>\n      <th>ID</th>\n      <th>Name</th>\n      <th>Sex</th>\n      <th>Age</th>\n      <th>Height</th>\n      <th>Weight</th>\n      <th>Team</th>\n      <th>NOC</th>\n      <th>Games</th>\n      <th>Year</th>\n      <th>Season</th>\n      <th>City</th>\n      <th>Sport</th>\n      <th>Event</th>\n      <th>Medal</th>\n    </tr>\n  </thead>\n  <tbody>\n    <tr>\n      <th>227</th>\n      <td>23549</td>\n      <td>Kirsty Leigh Coventry (Seward)</td>\n      <td>F</td>\n      <td>28.0</td>\n      <td>340.0</td>\n      <td>64.0</td>\n      <td>Zimbabwe</td>\n      <td>ZIM</td>\n      <td>2012 Summer</td>\n      <td>2012.0</td>\n      <td>Summer</td>\n      <td>London</td>\n      <td>Swimming</td>\n      <td>Swimming Women's 200 metres Individual Medley</td>\n      <td>NaN</td>\n    </tr>\n  </tbody>\n</table>\n</div>"
     },
     "execution_count": 43,
     "metadata": {},
     "output_type": "execute_result"
    }
   ],
   "source": [
    "olympics_filtered[olympics_filtered['Height'] == 340]"
   ],
   "metadata": {
    "collapsed": false
   }
  },
  {
   "cell_type": "markdown",
   "source": [
    "Other strings with her data told me her real height."
   ],
   "metadata": {
    "collapsed": false
   }
  },
  {
   "cell_type": "code",
   "execution_count": 46,
   "outputs": [
    {
     "data": {
      "text/plain": "        ID                            Name Sex   Age  Height  Weight  \\\n214  23549  Kirsty Leigh Coventry (Seward)   F  16.0   176.0    64.0   \n215  23549  Kirsty Leigh Coventry (Seward)   F  16.0   176.0    64.0   \n216  23549  Kirsty Leigh Coventry (Seward)   F  16.0   176.0    64.0   \n217  23549  Kirsty Leigh Coventry (Seward)   F  16.0   176.0    64.0   \n218  23549  Kirsty Leigh Coventry (Seward)   F  20.0   176.0    64.0   \n219  23549  Kirsty Leigh Coventry (Seward)   F  20.0   176.0    64.0   \n220  23549  Kirsty Leigh Coventry (Seward)   F  20.0   176.0    64.0   \n221  23549  Kirsty Leigh Coventry (Seward)   F  24.0   176.0    64.0   \n222  23549  Kirsty Leigh Coventry (Seward)   F  24.0   176.0    64.0   \n223  23549  Kirsty Leigh Coventry (Seward)   F  24.0   176.0    64.0   \n224  23549  Kirsty Leigh Coventry (Seward)   F  24.0   176.0    64.0   \n225  23549  Kirsty Leigh Coventry (Seward)   F  28.0   176.0    64.0   \n226  23549  Kirsty Leigh Coventry (Seward)   F  28.0   176.0    64.0   \n227  23549  Kirsty Leigh Coventry (Seward)   F  28.0   176.0    64.0   \n228  23549  Kirsty Leigh Coventry (Seward)   F  32.0   176.0    64.0   \n229  23549  Kirsty Leigh Coventry (Seward)   F  32.0   176.0    64.0   \n\n         Team  NOC        Games    Year  Season            City     Sport  \\\n214  Zimbabwe  ZIM  2000 Summer  2000.0  Summer          Sydney  Swimming   \n215  Zimbabwe  ZIM  2000 Summer  2000.0  Summer          Sydney  Swimming   \n216  Zimbabwe  ZIM  2000 Summer  2000.0  Summer          Sydney  Swimming   \n217  Zimbabwe  ZIM  2000 Summer  2000.0  Summer          Sydney  Swimming   \n218  Zimbabwe  ZIM  2004 Summer  2004.0  Summer          Athina  Swimming   \n219  Zimbabwe  ZIM  2004 Summer  2004.0  Summer          Athina  Swimming   \n220  Zimbabwe  ZIM  2004 Summer  2004.0  Summer          Athina  Swimming   \n221  Zimbabwe  ZIM  2008 Summer  2008.0  Summer         Beijing  Swimming   \n222  Zimbabwe  ZIM  2008 Summer  2008.0  Summer         Beijing  Swimming   \n223  Zimbabwe  ZIM  2008 Summer  2008.0  Summer         Beijing  Swimming   \n224  Zimbabwe  ZIM  2008 Summer  2008.0  Summer         Beijing  Swimming   \n225  Zimbabwe  ZIM  2012 Summer  2012.0  Summer          London  Swimming   \n226  Zimbabwe  ZIM  2012 Summer  2012.0  Summer          London  Swimming   \n227  Zimbabwe  ZIM  2012 Summer  2012.0  Summer          London  Swimming   \n228  Zimbabwe  ZIM  2016 Summer  2016.0  Summer  Rio de Janeiro  Swimming   \n229  Zimbabwe  ZIM  2016 Summer  2016.0  Summer  Rio de Janeiro  Swimming   \n\n                                             Event   Medal  \n214           Swimming Women's 50 metres Freestyle     NaN  \n215          Swimming Women's 100 metres Freestyle     NaN  \n216         Swimming Women's 100 metres Backstroke     NaN  \n217  Swimming Women's 200 metres Individual Medley     NaN  \n218         Swimming Women's 100 metres Backstroke  Silver  \n219         Swimming Women's 200 metres Backstroke    Gold  \n220  Swimming Women's 200 metres Individual Medley  Bronze  \n221         Swimming Women's 100 metres Backstroke  Silver  \n222         Swimming Women's 200 metres Backstroke    Gold  \n223  Swimming Women's 200 metres Individual Medley  Silver  \n224  Swimming Women's 400 metres Individual Medley  Silver  \n225         Swimming Women's 100 metres Backstroke     NaN  \n226         Swimming Women's 200 metres Backstroke     NaN  \n227  Swimming Women's 200 metres Individual Medley     NaN  \n228         Swimming Women's 100 metres Backstroke     NaN  \n229         Swimming Women's 200 metres Backstroke     NaN  ",
      "text/html": "<div>\n<style scoped>\n    .dataframe tbody tr th:only-of-type {\n        vertical-align: middle;\n    }\n\n    .dataframe tbody tr th {\n        vertical-align: top;\n    }\n\n    .dataframe thead th {\n        text-align: right;\n    }\n</style>\n<table border=\"1\" class=\"dataframe\">\n  <thead>\n    <tr style=\"text-align: right;\">\n      <th></th>\n      <th>ID</th>\n      <th>Name</th>\n      <th>Sex</th>\n      <th>Age</th>\n      <th>Height</th>\n      <th>Weight</th>\n      <th>Team</th>\n      <th>NOC</th>\n      <th>Games</th>\n      <th>Year</th>\n      <th>Season</th>\n      <th>City</th>\n      <th>Sport</th>\n      <th>Event</th>\n      <th>Medal</th>\n    </tr>\n  </thead>\n  <tbody>\n    <tr>\n      <th>214</th>\n      <td>23549</td>\n      <td>Kirsty Leigh Coventry (Seward)</td>\n      <td>F</td>\n      <td>16.0</td>\n      <td>176.0</td>\n      <td>64.0</td>\n      <td>Zimbabwe</td>\n      <td>ZIM</td>\n      <td>2000 Summer</td>\n      <td>2000.0</td>\n      <td>Summer</td>\n      <td>Sydney</td>\n      <td>Swimming</td>\n      <td>Swimming Women's 50 metres Freestyle</td>\n      <td>NaN</td>\n    </tr>\n    <tr>\n      <th>215</th>\n      <td>23549</td>\n      <td>Kirsty Leigh Coventry (Seward)</td>\n      <td>F</td>\n      <td>16.0</td>\n      <td>176.0</td>\n      <td>64.0</td>\n      <td>Zimbabwe</td>\n      <td>ZIM</td>\n      <td>2000 Summer</td>\n      <td>2000.0</td>\n      <td>Summer</td>\n      <td>Sydney</td>\n      <td>Swimming</td>\n      <td>Swimming Women's 100 metres Freestyle</td>\n      <td>NaN</td>\n    </tr>\n    <tr>\n      <th>216</th>\n      <td>23549</td>\n      <td>Kirsty Leigh Coventry (Seward)</td>\n      <td>F</td>\n      <td>16.0</td>\n      <td>176.0</td>\n      <td>64.0</td>\n      <td>Zimbabwe</td>\n      <td>ZIM</td>\n      <td>2000 Summer</td>\n      <td>2000.0</td>\n      <td>Summer</td>\n      <td>Sydney</td>\n      <td>Swimming</td>\n      <td>Swimming Women's 100 metres Backstroke</td>\n      <td>NaN</td>\n    </tr>\n    <tr>\n      <th>217</th>\n      <td>23549</td>\n      <td>Kirsty Leigh Coventry (Seward)</td>\n      <td>F</td>\n      <td>16.0</td>\n      <td>176.0</td>\n      <td>64.0</td>\n      <td>Zimbabwe</td>\n      <td>ZIM</td>\n      <td>2000 Summer</td>\n      <td>2000.0</td>\n      <td>Summer</td>\n      <td>Sydney</td>\n      <td>Swimming</td>\n      <td>Swimming Women's 200 metres Individual Medley</td>\n      <td>NaN</td>\n    </tr>\n    <tr>\n      <th>218</th>\n      <td>23549</td>\n      <td>Kirsty Leigh Coventry (Seward)</td>\n      <td>F</td>\n      <td>20.0</td>\n      <td>176.0</td>\n      <td>64.0</td>\n      <td>Zimbabwe</td>\n      <td>ZIM</td>\n      <td>2004 Summer</td>\n      <td>2004.0</td>\n      <td>Summer</td>\n      <td>Athina</td>\n      <td>Swimming</td>\n      <td>Swimming Women's 100 metres Backstroke</td>\n      <td>Silver</td>\n    </tr>\n    <tr>\n      <th>219</th>\n      <td>23549</td>\n      <td>Kirsty Leigh Coventry (Seward)</td>\n      <td>F</td>\n      <td>20.0</td>\n      <td>176.0</td>\n      <td>64.0</td>\n      <td>Zimbabwe</td>\n      <td>ZIM</td>\n      <td>2004 Summer</td>\n      <td>2004.0</td>\n      <td>Summer</td>\n      <td>Athina</td>\n      <td>Swimming</td>\n      <td>Swimming Women's 200 metres Backstroke</td>\n      <td>Gold</td>\n    </tr>\n    <tr>\n      <th>220</th>\n      <td>23549</td>\n      <td>Kirsty Leigh Coventry (Seward)</td>\n      <td>F</td>\n      <td>20.0</td>\n      <td>176.0</td>\n      <td>64.0</td>\n      <td>Zimbabwe</td>\n      <td>ZIM</td>\n      <td>2004 Summer</td>\n      <td>2004.0</td>\n      <td>Summer</td>\n      <td>Athina</td>\n      <td>Swimming</td>\n      <td>Swimming Women's 200 metres Individual Medley</td>\n      <td>Bronze</td>\n    </tr>\n    <tr>\n      <th>221</th>\n      <td>23549</td>\n      <td>Kirsty Leigh Coventry (Seward)</td>\n      <td>F</td>\n      <td>24.0</td>\n      <td>176.0</td>\n      <td>64.0</td>\n      <td>Zimbabwe</td>\n      <td>ZIM</td>\n      <td>2008 Summer</td>\n      <td>2008.0</td>\n      <td>Summer</td>\n      <td>Beijing</td>\n      <td>Swimming</td>\n      <td>Swimming Women's 100 metres Backstroke</td>\n      <td>Silver</td>\n    </tr>\n    <tr>\n      <th>222</th>\n      <td>23549</td>\n      <td>Kirsty Leigh Coventry (Seward)</td>\n      <td>F</td>\n      <td>24.0</td>\n      <td>176.0</td>\n      <td>64.0</td>\n      <td>Zimbabwe</td>\n      <td>ZIM</td>\n      <td>2008 Summer</td>\n      <td>2008.0</td>\n      <td>Summer</td>\n      <td>Beijing</td>\n      <td>Swimming</td>\n      <td>Swimming Women's 200 metres Backstroke</td>\n      <td>Gold</td>\n    </tr>\n    <tr>\n      <th>223</th>\n      <td>23549</td>\n      <td>Kirsty Leigh Coventry (Seward)</td>\n      <td>F</td>\n      <td>24.0</td>\n      <td>176.0</td>\n      <td>64.0</td>\n      <td>Zimbabwe</td>\n      <td>ZIM</td>\n      <td>2008 Summer</td>\n      <td>2008.0</td>\n      <td>Summer</td>\n      <td>Beijing</td>\n      <td>Swimming</td>\n      <td>Swimming Women's 200 metres Individual Medley</td>\n      <td>Silver</td>\n    </tr>\n    <tr>\n      <th>224</th>\n      <td>23549</td>\n      <td>Kirsty Leigh Coventry (Seward)</td>\n      <td>F</td>\n      <td>24.0</td>\n      <td>176.0</td>\n      <td>64.0</td>\n      <td>Zimbabwe</td>\n      <td>ZIM</td>\n      <td>2008 Summer</td>\n      <td>2008.0</td>\n      <td>Summer</td>\n      <td>Beijing</td>\n      <td>Swimming</td>\n      <td>Swimming Women's 400 metres Individual Medley</td>\n      <td>Silver</td>\n    </tr>\n    <tr>\n      <th>225</th>\n      <td>23549</td>\n      <td>Kirsty Leigh Coventry (Seward)</td>\n      <td>F</td>\n      <td>28.0</td>\n      <td>176.0</td>\n      <td>64.0</td>\n      <td>Zimbabwe</td>\n      <td>ZIM</td>\n      <td>2012 Summer</td>\n      <td>2012.0</td>\n      <td>Summer</td>\n      <td>London</td>\n      <td>Swimming</td>\n      <td>Swimming Women's 100 metres Backstroke</td>\n      <td>NaN</td>\n    </tr>\n    <tr>\n      <th>226</th>\n      <td>23549</td>\n      <td>Kirsty Leigh Coventry (Seward)</td>\n      <td>F</td>\n      <td>28.0</td>\n      <td>176.0</td>\n      <td>64.0</td>\n      <td>Zimbabwe</td>\n      <td>ZIM</td>\n      <td>2012 Summer</td>\n      <td>2012.0</td>\n      <td>Summer</td>\n      <td>London</td>\n      <td>Swimming</td>\n      <td>Swimming Women's 200 metres Backstroke</td>\n      <td>NaN</td>\n    </tr>\n    <tr>\n      <th>227</th>\n      <td>23549</td>\n      <td>Kirsty Leigh Coventry (Seward)</td>\n      <td>F</td>\n      <td>28.0</td>\n      <td>176.0</td>\n      <td>64.0</td>\n      <td>Zimbabwe</td>\n      <td>ZIM</td>\n      <td>2012 Summer</td>\n      <td>2012.0</td>\n      <td>Summer</td>\n      <td>London</td>\n      <td>Swimming</td>\n      <td>Swimming Women's 200 metres Individual Medley</td>\n      <td>NaN</td>\n    </tr>\n    <tr>\n      <th>228</th>\n      <td>23549</td>\n      <td>Kirsty Leigh Coventry (Seward)</td>\n      <td>F</td>\n      <td>32.0</td>\n      <td>176.0</td>\n      <td>64.0</td>\n      <td>Zimbabwe</td>\n      <td>ZIM</td>\n      <td>2016 Summer</td>\n      <td>2016.0</td>\n      <td>Summer</td>\n      <td>Rio de Janeiro</td>\n      <td>Swimming</td>\n      <td>Swimming Women's 100 metres Backstroke</td>\n      <td>NaN</td>\n    </tr>\n    <tr>\n      <th>229</th>\n      <td>23549</td>\n      <td>Kirsty Leigh Coventry (Seward)</td>\n      <td>F</td>\n      <td>32.0</td>\n      <td>176.0</td>\n      <td>64.0</td>\n      <td>Zimbabwe</td>\n      <td>ZIM</td>\n      <td>2016 Summer</td>\n      <td>2016.0</td>\n      <td>Summer</td>\n      <td>Rio de Janeiro</td>\n      <td>Swimming</td>\n      <td>Swimming Women's 200 metres Backstroke</td>\n      <td>NaN</td>\n    </tr>\n  </tbody>\n</table>\n</div>"
     },
     "execution_count": 46,
     "metadata": {},
     "output_type": "execute_result"
    }
   ],
   "source": [
    "olympics_filtered.loc[olympics_filtered['Height']==340, ['Height']] = 176.0\n",
    "olympics_filtered.loc[olympics_filtered['Name']=='Kirsty Leigh Coventry (Seward)']"
   ],
   "metadata": {
    "collapsed": false
   }
  },
  {
   "cell_type": "markdown",
   "source": [
    "There is a strange age in the table. Let's correct this obvious mistake."
   ],
   "metadata": {
    "collapsed": false
   }
  },
  {
   "cell_type": "code",
   "execution_count": 47,
   "outputs": [
    {
     "data": {
      "text/plain": "array([ 24.,  16.,  20.,  32.,  36.,  49.,  26.,  22.,  25.,  29.,  34.,\n        35.,  27.,  31.,  28.,  33.,  37.,  21.,  45.,  17.,  60.,  30.,\n        nan,  18.,  19.,  23.,  15.,  41.,  51.,  39.,  50.,  42.,  38.,\n        44.,  57.,  43.,  40.,  63.,  56.,  53.,  61.,  58.,  46.,  13.,\n        48.,  47.,  14.,  54.,  73.,  59.,  52.,  74.,  65.,  55.,  69.,\n        71.,  64.,  62.,  66.,  68.,  12.,  70.,  67.,  75.,  11.,  72.,\n        81.,  96., 240.,  76.,  88.,  97.,  84.,  80.,  77.])"
     },
     "execution_count": 47,
     "metadata": {},
     "output_type": "execute_result"
    }
   ],
   "source": [
    "olympics_filtered.Age.unique()"
   ],
   "metadata": {
    "collapsed": false
   }
  },
  {
   "cell_type": "code",
   "execution_count": 48,
   "outputs": [
    {
     "data": {
      "text/plain": "       ID                        Name Sex   Age  Height  Weight     Team  NOC  \\\n36  23459  Flicien Jules mile Courbet   M  20.0     NaN     NaN  Belgium  BEL   \n37  23459  Flicien Jules mile Courbet   M  24.0     NaN     NaN  Belgium  BEL   \n38  23459  Flicien Jules mile Courbet   M  24.0     NaN     NaN  Belgium  BEL   \n39  23459  Flicien Jules mile Courbet   M  24.0     NaN     NaN  Belgium  BEL   \n40  23459  Flicien Jules mile Courbet   M  32.0     NaN     NaN  Belgium  BEL   \n41  23459  Flicien Jules mile Courbet   M  32.0     NaN     NaN  Belgium  BEL   \n\n          Games    Year  Season       City       Sport  \\\n36  1908 Summer  1908.0  Summer     London    Swimming   \n37  1912 Summer  1912.0  Summer  Stockholm  Water Polo   \n38  1912 Summer  1912.0  Summer  Stockholm    Swimming   \n39  1912 Summer  1912.0  Summer  Stockholm    Swimming   \n40  1920 Summer  1920.0  Summer  Antwerpen    Swimming   \n41  1920 Summer  1920.0  Summer  Antwerpen    Swimming   \n\n                                     Event   Medal  \n36  Swimming Men's 200 metres Breaststroke     NaN  \n37             Water Polo Men's Water Polo  Bronze  \n38  Swimming Men's 200 metres Breaststroke     NaN  \n39  Swimming Men's 400 metres Breaststroke     NaN  \n40  Swimming Men's 200 metres Breaststroke     NaN  \n41  Swimming Men's 400 metres Breaststroke     NaN  ",
      "text/html": "<div>\n<style scoped>\n    .dataframe tbody tr th:only-of-type {\n        vertical-align: middle;\n    }\n\n    .dataframe tbody tr th {\n        vertical-align: top;\n    }\n\n    .dataframe thead th {\n        text-align: right;\n    }\n</style>\n<table border=\"1\" class=\"dataframe\">\n  <thead>\n    <tr style=\"text-align: right;\">\n      <th></th>\n      <th>ID</th>\n      <th>Name</th>\n      <th>Sex</th>\n      <th>Age</th>\n      <th>Height</th>\n      <th>Weight</th>\n      <th>Team</th>\n      <th>NOC</th>\n      <th>Games</th>\n      <th>Year</th>\n      <th>Season</th>\n      <th>City</th>\n      <th>Sport</th>\n      <th>Event</th>\n      <th>Medal</th>\n    </tr>\n  </thead>\n  <tbody>\n    <tr>\n      <th>36</th>\n      <td>23459</td>\n      <td>Flicien Jules mile Courbet</td>\n      <td>M</td>\n      <td>20.0</td>\n      <td>NaN</td>\n      <td>NaN</td>\n      <td>Belgium</td>\n      <td>BEL</td>\n      <td>1908 Summer</td>\n      <td>1908.0</td>\n      <td>Summer</td>\n      <td>London</td>\n      <td>Swimming</td>\n      <td>Swimming Men's 200 metres Breaststroke</td>\n      <td>NaN</td>\n    </tr>\n    <tr>\n      <th>37</th>\n      <td>23459</td>\n      <td>Flicien Jules mile Courbet</td>\n      <td>M</td>\n      <td>24.0</td>\n      <td>NaN</td>\n      <td>NaN</td>\n      <td>Belgium</td>\n      <td>BEL</td>\n      <td>1912 Summer</td>\n      <td>1912.0</td>\n      <td>Summer</td>\n      <td>Stockholm</td>\n      <td>Water Polo</td>\n      <td>Water Polo Men's Water Polo</td>\n      <td>Bronze</td>\n    </tr>\n    <tr>\n      <th>38</th>\n      <td>23459</td>\n      <td>Flicien Jules mile Courbet</td>\n      <td>M</td>\n      <td>24.0</td>\n      <td>NaN</td>\n      <td>NaN</td>\n      <td>Belgium</td>\n      <td>BEL</td>\n      <td>1912 Summer</td>\n      <td>1912.0</td>\n      <td>Summer</td>\n      <td>Stockholm</td>\n      <td>Swimming</td>\n      <td>Swimming Men's 200 metres Breaststroke</td>\n      <td>NaN</td>\n    </tr>\n    <tr>\n      <th>39</th>\n      <td>23459</td>\n      <td>Flicien Jules mile Courbet</td>\n      <td>M</td>\n      <td>24.0</td>\n      <td>NaN</td>\n      <td>NaN</td>\n      <td>Belgium</td>\n      <td>BEL</td>\n      <td>1912 Summer</td>\n      <td>1912.0</td>\n      <td>Summer</td>\n      <td>Stockholm</td>\n      <td>Swimming</td>\n      <td>Swimming Men's 400 metres Breaststroke</td>\n      <td>NaN</td>\n    </tr>\n    <tr>\n      <th>40</th>\n      <td>23459</td>\n      <td>Flicien Jules mile Courbet</td>\n      <td>M</td>\n      <td>32.0</td>\n      <td>NaN</td>\n      <td>NaN</td>\n      <td>Belgium</td>\n      <td>BEL</td>\n      <td>1920 Summer</td>\n      <td>1920.0</td>\n      <td>Summer</td>\n      <td>Antwerpen</td>\n      <td>Swimming</td>\n      <td>Swimming Men's 200 metres Breaststroke</td>\n      <td>NaN</td>\n    </tr>\n    <tr>\n      <th>41</th>\n      <td>23459</td>\n      <td>Flicien Jules mile Courbet</td>\n      <td>M</td>\n      <td>32.0</td>\n      <td>NaN</td>\n      <td>NaN</td>\n      <td>Belgium</td>\n      <td>BEL</td>\n      <td>1920 Summer</td>\n      <td>1920.0</td>\n      <td>Summer</td>\n      <td>Antwerpen</td>\n      <td>Swimming</td>\n      <td>Swimming Men's 400 metres Breaststroke</td>\n      <td>NaN</td>\n    </tr>\n  </tbody>\n</table>\n</div>"
     },
     "execution_count": 48,
     "metadata": {},
     "output_type": "execute_result"
    }
   ],
   "source": [
    "olympics_filtered.loc[olympics_filtered['Age']==240, ['Age']] = 24.0\n",
    "olympics_filtered.loc[olympics_filtered['Name']=='Flicien Jules mile Courbet']"
   ],
   "metadata": {
    "collapsed": false
   }
  },
  {
   "cell_type": "markdown",
   "source": [
    "## 3. The youngest\n",
    "The youngest male athlete was 11, female one - 11."
   ],
   "metadata": {
    "collapsed": false
   }
  },
  {
   "cell_type": "code",
   "execution_count": 53,
   "outputs": [
    {
     "data": {
      "text/plain": "      Age\nSex      \nF    12.0\nM    11.0",
      "text/html": "<div>\n<style scoped>\n    .dataframe tbody tr th:only-of-type {\n        vertical-align: middle;\n    }\n\n    .dataframe tbody tr th {\n        vertical-align: top;\n    }\n\n    .dataframe thead th {\n        text-align: right;\n    }\n</style>\n<table border=\"1\" class=\"dataframe\">\n  <thead>\n    <tr style=\"text-align: right;\">\n      <th></th>\n      <th>Age</th>\n    </tr>\n    <tr>\n      <th>Sex</th>\n      <th></th>\n    </tr>\n  </thead>\n  <tbody>\n    <tr>\n      <th>F</th>\n      <td>12.0</td>\n    </tr>\n    <tr>\n      <th>M</th>\n      <td>11.0</td>\n    </tr>\n  </tbody>\n</table>\n</div>"
     },
     "execution_count": 53,
     "metadata": {},
     "output_type": "execute_result"
    }
   ],
   "source": [
    "olympics_filtered.loc[olympics_filtered.Year == 1992].groupby('Sex').aggregate({'Age': 'min'})"
   ],
   "metadata": {
    "collapsed": false
   }
  },
  {
   "cell_type": "markdown",
   "source": [],
   "metadata": {
    "collapsed": false
   }
  },
  {
   "cell_type": "markdown",
   "source": [
    "## 4. Mean Height\n",
    "\n",
    "\n",
    "The female height was about 167, male - 178.\n",
    "\n"
   ],
   "metadata": {
    "collapsed": false
   }
  },
  {
   "cell_type": "code",
   "execution_count": 54,
   "outputs": [
    {
     "data": {
      "text/plain": "(178.90612463602585, 9.366103118600295)"
     },
     "execution_count": 54,
     "metadata": {},
     "output_type": "execute_result"
    }
   ],
   "source": [
    "np.mean(olympics_filtered[olympics_filtered['Sex']=='M'].Height), np.std(olympics_filtered[olympics_filtered['Sex']=='M'].Height)"
   ],
   "metadata": {
    "collapsed": false
   }
  },
  {
   "cell_type": "code",
   "execution_count": 55,
   "outputs": [
    {
     "data": {
      "text/plain": "(167.86592646904788, 9.366103118600295)"
     },
     "execution_count": 55,
     "metadata": {},
     "output_type": "execute_result"
    }
   ],
   "source": [
    "np.mean(olympics_filtered[olympics_filtered['Sex']=='F'].Height), np.std(olympics_filtered[olympics_filtered['Sex']=='M'].Height)"
   ],
   "metadata": {
    "collapsed": false
   }
  },
  {
   "cell_type": "markdown",
   "source": [
    "## 5. Tennis girls' height\n",
    "\n",
    "in 2000 is 171.76 (stdev 6.48)."
   ],
   "metadata": {
    "collapsed": false
   }
  },
  {
   "cell_type": "code",
   "execution_count": 56,
   "outputs": [
    {
     "data": {
      "text/plain": "(171.7560975609756, 6.477404708896889)"
     },
     "execution_count": 56,
     "metadata": {},
     "output_type": "execute_result"
    }
   ],
   "source": [
    "tennis = olympics_filtered.query(\"Sport=='Tennis'  and Sex=='F' and Year==2000\")\n",
    "np.mean(tennis.Height), np.std(tennis.Height)"
   ],
   "metadata": {
    "collapsed": false
   }
  },
  {
   "cell_type": "markdown",
   "source": [
    "## 6. The heaviest in 2006\n",
    "\n",
    "The heaviest guy's sport is Skeleton, lol"
   ],
   "metadata": {
    "collapsed": false
   }
  },
  {
   "cell_type": "code",
   "execution_count": 61,
   "outputs": [
    {
     "data": {
      "text/plain": "8102    Skeleton\nName: Sport, dtype: object"
     },
     "execution_count": 61,
     "metadata": {},
     "output_type": "execute_result"
    }
   ],
   "source": [
    "year_2006 = olympics_filtered.loc[(olympics_filtered['Sex'] == 'M') & (olympics_filtered['Year'] == 2006.0)]\n",
    "heavy = year_2006[year_2006['Weight'] == max(year_2006['Weight'])]\n",
    "heavy['Sport']"
   ],
   "metadata": {
    "collapsed": false
   }
  },
  {
   "cell_type": "markdown",
   "source": [
    "## 7. Women's gold 1980-2010\n",
    "\n",
    "Women earned 2244 golden medals."
   ],
   "metadata": {
    "collapsed": false
   }
  },
  {
   "cell_type": "code",
   "execution_count": 62,
   "outputs": [
    {
     "data": {
      "text/plain": "2244"
     },
     "execution_count": 62,
     "metadata": {},
     "output_type": "execute_result"
    }
   ],
   "source": [
    "first_women = olympics_filtered[olympics_filtered['Sex']=='F'].query(\"Year>=1980  and Year<=2010 and Medal=='Gold'\")\n",
    "first_women.Medal.count()"
   ],
   "metadata": {
    "collapsed": false
   }
  },
  {
   "cell_type": "markdown",
   "source": [
    "## 8. John Aalberg\n",
    "\n",
    "John Aalberg participated 4 times in 1992 and in 1994 too.\n"
   ],
   "metadata": {
    "collapsed": false
   }
  },
  {
   "cell_type": "code",
   "execution_count": 65,
   "outputs": [
    {
     "data": {
      "text/plain": "(4, 4)"
     },
     "execution_count": 65,
     "metadata": {},
     "output_type": "execute_result"
    }
   ],
   "source": [
    "aalberg = olympics_filtered.loc[olympics_filtered['Name'] == 'John Aalberg']\n",
    "\n",
    "aalberg.loc[aalberg['Year'] == aalberg['Year'].unique()[0]].shape[0], aalberg.loc[aalberg['Year'] == aalberg['Year'].unique()[1]].shape[0]"
   ],
   "metadata": {
    "collapsed": false
   }
  },
  {
   "cell_type": "markdown",
   "source": [
    "## 9. 2008 age groups\n",
    "\n",
    "25-35 is the most represented group, 45-55 is the least represented.\n"
   ],
   "metadata": {
    "collapsed": false
   }
  },
  {
   "cell_type": "code",
   "execution_count": 66,
   "outputs": [
    {
     "data": {
      "text/plain": "{'[15;25)': 4728, '[25;35)': 5322, '[35;45)': 626, '[45;55]': 78}"
     },
     "execution_count": 66,
     "metadata": {},
     "output_type": "execute_result"
    }
   ],
   "source": [
    "year_2008 = olympics_filtered[olympics_filtered['Year']==2008]\n",
    "age = {'[15;25)': len(year_2008.query(\"Age>=15  and Age<25\").ID.unique()),\n",
    "              '[25;35)': len(year_2008.query(\"Age>=25  and Age<35\").ID.unique()),\n",
    "              '[35;45)':len(year_2008.query(\"Age>=35  and Age<45\").ID.unique()),\n",
    "              '[45;55]':len(year_2008.query(\"Age>=45  and Age<=55\").ID.unique())}\n",
    "age"
   ],
   "metadata": {
    "collapsed": false
   }
  },
  {
   "cell_type": "markdown",
   "source": [
    "## 10. 1994 vs 2002 sports\n",
    "\n",
    "There appeared 3 more sports in 2002."
   ],
   "metadata": {
    "collapsed": false
   }
  },
  {
   "cell_type": "code",
   "execution_count": 67,
   "outputs": [
    {
     "data": {
      "text/plain": "3"
     },
     "execution_count": 67,
     "metadata": {},
     "output_type": "execute_result"
    }
   ],
   "source": [
    "year_1994 = olympics_filtered[olympics_filtered['Year'] == 1994]\n",
    "year_2002 = olympics_filtered[olympics_filtered['Year'] == 2002]\n",
    "year_2002['Sport'].unique().shape[0] - year_1994['Sport'].unique().shape[0]\n",
    "\n"
   ],
   "metadata": {
    "collapsed": false
   }
  },
  {
   "cell_type": "markdown",
   "source": [
    "## 11. Seasons and medals"
   ],
   "metadata": {
    "collapsed": false
   }
  },
  {
   "cell_type": "markdown",
   "source": [
    "I would like to start in winter."
   ],
   "metadata": {
    "collapsed": false
   }
  },
  {
   "cell_type": "code",
   "execution_count": 71,
   "outputs": [],
   "source": [
    "winter = olympics_filtered[olympics_filtered['Season'] == 'Winter']"
   ],
   "metadata": {
    "collapsed": false
   }
  },
  {
   "cell_type": "code",
   "execution_count": 70,
   "outputs": [
    {
     "data": {
      "text/plain": "Team\nCanada           305\nSoviet Union     250\nUnited States    166\ndtype: int64"
     },
     "execution_count": 70,
     "metadata": {},
     "output_type": "execute_result"
    }
   ],
   "source": [
    "gold_w = winter[winter['Medal'] == 'Gold']\n",
    "gold_w.value_counts('Team').head(3)"
   ],
   "metadata": {
    "collapsed": false
   }
  },
  {
   "cell_type": "markdown",
   "source": [
    "Check golden medals in winter above."
   ],
   "metadata": {
    "collapsed": false
   }
  },
  {
   "cell_type": "code",
   "execution_count": 72,
   "outputs": [
    {
     "data": {
      "text/plain": "Team\nUnited States    308\nCanada           199\nNorway           165\ndtype: int64"
     },
     "execution_count": 72,
     "metadata": {},
     "output_type": "execute_result"
    }
   ],
   "source": [
    "silver_w = winter[winter['Medal'] == 'Silver']\n",
    "silver_w.value_counts('Team').head(3)"
   ],
   "metadata": {
    "collapsed": false
   }
  },
  {
   "cell_type": "markdown",
   "source": [
    "Here is a table of silver winter medals."
   ],
   "metadata": {
    "collapsed": false
   }
  },
  {
   "cell_type": "code",
   "execution_count": 73,
   "outputs": [
    {
     "data": {
      "text/plain": "Team\nFinland          215\nSweden           177\nUnited States    161\ndtype: int64"
     },
     "execution_count": 73,
     "metadata": {},
     "output_type": "execute_result"
    }
   ],
   "source": [
    "bronze_w = winter[winter['Medal'] == 'Bronze']\n",
    "bronze_w.value_counts('Team').head(3)"
   ],
   "metadata": {
    "collapsed": false
   }
  },
  {
   "cell_type": "markdown",
   "source": [
    "Bronze above.\n",
    "\n",
    "The summer is coming."
   ],
   "metadata": {
    "collapsed": false
   }
  },
  {
   "cell_type": "code",
   "execution_count": 74,
   "outputs": [],
   "source": [
    "summer = olympics_filtered[olympics_filtered['Season'] == 'Summer']"
   ],
   "metadata": {
    "collapsed": false
   }
  },
  {
   "cell_type": "code",
   "execution_count": 76,
   "outputs": [
    {
     "data": {
      "text/plain": "Team\nUnited States    2363\nSoviet Union      830\nGermany           568\ndtype: int64"
     },
     "execution_count": 76,
     "metadata": {},
     "output_type": "execute_result"
    }
   ],
   "source": [
    "gold_s = summer[summer['Medal'] == 'Gold']\n",
    "gold_s.value_counts('Team').head(3)"
   ],
   "metadata": {
    "collapsed": false
   }
  },
  {
   "cell_type": "code",
   "execution_count": 77,
   "outputs": [
    {
     "data": {
      "text/plain": "Team\nUnited States    1251\nSoviet Union      635\nGreat Britain     594\ndtype: int64"
     },
     "execution_count": 77,
     "metadata": {},
     "output_type": "execute_result"
    }
   ],
   "source": [
    "silver_s = summer[summer['Medal'] == 'Silver']\n",
    "silver_s.value_counts('Team').head(3)"
   ],
   "metadata": {
    "collapsed": false
   }
  },
  {
   "cell_type": "code",
   "execution_count": 78,
   "outputs": [
    {
     "data": {
      "text/plain": "Team\nUnited States    1126\nGermany           614\nSoviet Union      596\ndtype: int64"
     },
     "execution_count": 78,
     "metadata": {},
     "output_type": "execute_result"
    }
   ],
   "source": [
    "bronze_s = summer[summer['Medal'] == 'Bronze']\n",
    "bronze_s.value_counts('Team').head(3)"
   ],
   "metadata": {
    "collapsed": false
   }
  },
  {
   "cell_type": "markdown",
   "source": [
    "## 12. Height standard"
   ],
   "metadata": {
    "collapsed": false
   }
  },
  {
   "cell_type": "code",
   "execution_count": 82,
   "outputs": [
    {
     "data": {
      "text/plain": "           ID                      Name Sex   Age  Height  Weight       Team  \\\n0      102344   Yosmany Romero Rodrguez   M  24.0   180.0    76.0       Cuba   \n1      102345  Francisco Romero Arribas   M  16.0   178.0    64.0  Guatemala   \n2      102345  Francisco Romero Arribas   M  20.0   178.0    64.0  Guatemala   \n3      102345  Francisco Romero Arribas   M  24.0   178.0    64.0  Guatemala   \n4      102345  Francisco Romero Arribas   M  32.0   178.0    64.0  Guatemala   \n...       ...                       ...  ..   ...     ...     ...        ...   \n22581   23428            Paul Couillaud   M  30.0     NaN     NaN     France   \n22582   23429           Ismal Coulibaly   M  23.0   191.0    78.0       Mali   \n22584   23431         Mamadou Coulibaly   M   NaN     NaN     NaN       Mali   \n22585   23432         Mohamed Coulibaly   M  18.0     NaN     NaN       Mali   \n22586   23433     Hadj Moussa Coulibaly   M  23.0     NaN     NaN       Mali   \n\n       NOC        Games    Year  Season            City      Sport  \\\n0      CUB  2000 Summer  2000.0  Summer          Sydney  Wrestling   \n1      GUA  1976 Summer  1976.0  Summer        Montreal   Shooting   \n2      GUA  1980 Summer  1980.0  Summer          Moskva   Shooting   \n3      GUA  1984 Summer  1984.0  Summer     Los Angeles   Shooting   \n4      GUA  1992 Summer  1992.0  Summer       Barcelona   Shooting   \n...    ...          ...     ...     ...             ...        ...   \n22581  FRA  1924 Summer  1924.0  Summer           Paris  Athletics   \n22582  MLI  2016 Summer  2016.0  Summer  Rio de Janeiro  Taekwondo   \n22584  MLI  1992 Summer  1992.0  Summer       Barcelona       Judo   \n22585  MLI  2008 Summer  2008.0  Summer         Beijing   Swimming   \n22586  MLI   2004 Summe     NaN     NaN             NaN        NaN   \n\n                                         Event Medal  Height_z_scores  \n0      Wrestling Men's Middleweight, Freestyle   NaN         0.439627  \n1                         Shooting Mixed Skeet   NaN         0.249711  \n2                         Shooting Mixed Skeet   NaN         0.249711  \n3                         Shooting Mixed Skeet   NaN         0.249711  \n4                         Shooting Mixed Skeet   NaN         0.249711  \n...                                        ...   ...              ...  \n22581                Athletics Men's Long Jump   NaN              NaN  \n22582             Taekwondo Men's Welterweight   NaN         1.484167  \n22584               Judo Men's HalfLightweight   NaN              NaN  \n22585       Swimming Men's 50 metres Freestyle   NaN              NaN  \n22586                                      NaN   NaN              NaN  \n\n[265893 rows x 16 columns]",
      "text/html": "<div>\n<style scoped>\n    .dataframe tbody tr th:only-of-type {\n        vertical-align: middle;\n    }\n\n    .dataframe tbody tr th {\n        vertical-align: top;\n    }\n\n    .dataframe thead th {\n        text-align: right;\n    }\n</style>\n<table border=\"1\" class=\"dataframe\">\n  <thead>\n    <tr style=\"text-align: right;\">\n      <th></th>\n      <th>ID</th>\n      <th>Name</th>\n      <th>Sex</th>\n      <th>Age</th>\n      <th>Height</th>\n      <th>Weight</th>\n      <th>Team</th>\n      <th>NOC</th>\n      <th>Games</th>\n      <th>Year</th>\n      <th>Season</th>\n      <th>City</th>\n      <th>Sport</th>\n      <th>Event</th>\n      <th>Medal</th>\n      <th>Height_z_scores</th>\n    </tr>\n  </thead>\n  <tbody>\n    <tr>\n      <th>0</th>\n      <td>102344</td>\n      <td>Yosmany Romero Rodrguez</td>\n      <td>M</td>\n      <td>24.0</td>\n      <td>180.0</td>\n      <td>76.0</td>\n      <td>Cuba</td>\n      <td>CUB</td>\n      <td>2000 Summer</td>\n      <td>2000.0</td>\n      <td>Summer</td>\n      <td>Sydney</td>\n      <td>Wrestling</td>\n      <td>Wrestling Men's Middleweight, Freestyle</td>\n      <td>NaN</td>\n      <td>0.439627</td>\n    </tr>\n    <tr>\n      <th>1</th>\n      <td>102345</td>\n      <td>Francisco Romero Arribas</td>\n      <td>M</td>\n      <td>16.0</td>\n      <td>178.0</td>\n      <td>64.0</td>\n      <td>Guatemala</td>\n      <td>GUA</td>\n      <td>1976 Summer</td>\n      <td>1976.0</td>\n      <td>Summer</td>\n      <td>Montreal</td>\n      <td>Shooting</td>\n      <td>Shooting Mixed Skeet</td>\n      <td>NaN</td>\n      <td>0.249711</td>\n    </tr>\n    <tr>\n      <th>2</th>\n      <td>102345</td>\n      <td>Francisco Romero Arribas</td>\n      <td>M</td>\n      <td>20.0</td>\n      <td>178.0</td>\n      <td>64.0</td>\n      <td>Guatemala</td>\n      <td>GUA</td>\n      <td>1980 Summer</td>\n      <td>1980.0</td>\n      <td>Summer</td>\n      <td>Moskva</td>\n      <td>Shooting</td>\n      <td>Shooting Mixed Skeet</td>\n      <td>NaN</td>\n      <td>0.249711</td>\n    </tr>\n    <tr>\n      <th>3</th>\n      <td>102345</td>\n      <td>Francisco Romero Arribas</td>\n      <td>M</td>\n      <td>24.0</td>\n      <td>178.0</td>\n      <td>64.0</td>\n      <td>Guatemala</td>\n      <td>GUA</td>\n      <td>1984 Summer</td>\n      <td>1984.0</td>\n      <td>Summer</td>\n      <td>Los Angeles</td>\n      <td>Shooting</td>\n      <td>Shooting Mixed Skeet</td>\n      <td>NaN</td>\n      <td>0.249711</td>\n    </tr>\n    <tr>\n      <th>4</th>\n      <td>102345</td>\n      <td>Francisco Romero Arribas</td>\n      <td>M</td>\n      <td>32.0</td>\n      <td>178.0</td>\n      <td>64.0</td>\n      <td>Guatemala</td>\n      <td>GUA</td>\n      <td>1992 Summer</td>\n      <td>1992.0</td>\n      <td>Summer</td>\n      <td>Barcelona</td>\n      <td>Shooting</td>\n      <td>Shooting Mixed Skeet</td>\n      <td>NaN</td>\n      <td>0.249711</td>\n    </tr>\n    <tr>\n      <th>...</th>\n      <td>...</td>\n      <td>...</td>\n      <td>...</td>\n      <td>...</td>\n      <td>...</td>\n      <td>...</td>\n      <td>...</td>\n      <td>...</td>\n      <td>...</td>\n      <td>...</td>\n      <td>...</td>\n      <td>...</td>\n      <td>...</td>\n      <td>...</td>\n      <td>...</td>\n      <td>...</td>\n    </tr>\n    <tr>\n      <th>22581</th>\n      <td>23428</td>\n      <td>Paul Couillaud</td>\n      <td>M</td>\n      <td>30.0</td>\n      <td>NaN</td>\n      <td>NaN</td>\n      <td>France</td>\n      <td>FRA</td>\n      <td>1924 Summer</td>\n      <td>1924.0</td>\n      <td>Summer</td>\n      <td>Paris</td>\n      <td>Athletics</td>\n      <td>Athletics Men's Long Jump</td>\n      <td>NaN</td>\n      <td>NaN</td>\n    </tr>\n    <tr>\n      <th>22582</th>\n      <td>23429</td>\n      <td>Ismal Coulibaly</td>\n      <td>M</td>\n      <td>23.0</td>\n      <td>191.0</td>\n      <td>78.0</td>\n      <td>Mali</td>\n      <td>MLI</td>\n      <td>2016 Summer</td>\n      <td>2016.0</td>\n      <td>Summer</td>\n      <td>Rio de Janeiro</td>\n      <td>Taekwondo</td>\n      <td>Taekwondo Men's Welterweight</td>\n      <td>NaN</td>\n      <td>1.484167</td>\n    </tr>\n    <tr>\n      <th>22584</th>\n      <td>23431</td>\n      <td>Mamadou Coulibaly</td>\n      <td>M</td>\n      <td>NaN</td>\n      <td>NaN</td>\n      <td>NaN</td>\n      <td>Mali</td>\n      <td>MLI</td>\n      <td>1992 Summer</td>\n      <td>1992.0</td>\n      <td>Summer</td>\n      <td>Barcelona</td>\n      <td>Judo</td>\n      <td>Judo Men's HalfLightweight</td>\n      <td>NaN</td>\n      <td>NaN</td>\n    </tr>\n    <tr>\n      <th>22585</th>\n      <td>23432</td>\n      <td>Mohamed Coulibaly</td>\n      <td>M</td>\n      <td>18.0</td>\n      <td>NaN</td>\n      <td>NaN</td>\n      <td>Mali</td>\n      <td>MLI</td>\n      <td>2008 Summer</td>\n      <td>2008.0</td>\n      <td>Summer</td>\n      <td>Beijing</td>\n      <td>Swimming</td>\n      <td>Swimming Men's 50 metres Freestyle</td>\n      <td>NaN</td>\n      <td>NaN</td>\n    </tr>\n    <tr>\n      <th>22586</th>\n      <td>23433</td>\n      <td>Hadj Moussa Coulibaly</td>\n      <td>M</td>\n      <td>23.0</td>\n      <td>NaN</td>\n      <td>NaN</td>\n      <td>Mali</td>\n      <td>MLI</td>\n      <td>2004 Summe</td>\n      <td>NaN</td>\n      <td>NaN</td>\n      <td>NaN</td>\n      <td>NaN</td>\n      <td>NaN</td>\n      <td>NaN</td>\n      <td>NaN</td>\n    </tr>\n  </tbody>\n</table>\n<p>265893 rows × 16 columns</p>\n</div>"
     },
     "execution_count": 82,
     "metadata": {},
     "output_type": "execute_result"
    }
   ],
   "source": [
    "olympics_filtered = olympics_filtered.assign(Height_z_scores=stats.zscore(olympics_filtered['Height'], nan_policy='omit'))\n",
    "olympics_filtered"
   ],
   "metadata": {
    "collapsed": false
   }
  },
  {
   "cell_type": "markdown",
   "source": [
    "## 13. Scaled height"
   ],
   "metadata": {
    "collapsed": false
   }
  },
  {
   "cell_type": "code",
   "execution_count": 85,
   "outputs": [
    {
     "data": {
      "text/plain": "           ID                      Name Sex   Age  Height  Weight       Team  \\\n0      102344   Yosmany Romero Rodrguez   M  24.0   180.0    76.0       Cuba   \n1      102345  Francisco Romero Arribas   M  16.0   178.0    64.0  Guatemala   \n2      102345  Francisco Romero Arribas   M  20.0   178.0    64.0  Guatemala   \n3      102345  Francisco Romero Arribas   M  24.0   178.0    64.0  Guatemala   \n4      102345  Francisco Romero Arribas   M  32.0   178.0    64.0  Guatemala   \n...       ...                       ...  ..   ...     ...     ...        ...   \n22581   23428            Paul Couillaud   M  30.0     NaN     NaN     France   \n22582   23429           Ismal Coulibaly   M  23.0   191.0    78.0       Mali   \n22584   23431         Mamadou Coulibaly   M   NaN     NaN     NaN       Mali   \n22585   23432         Mohamed Coulibaly   M  18.0     NaN     NaN       Mali   \n22586   23433     Hadj Moussa Coulibaly   M  23.0     NaN     NaN       Mali   \n\n       NOC        Games    Year  Season            City      Sport  \\\n0      CUB  2000 Summer  2000.0  Summer          Sydney  Wrestling   \n1      GUA  1976 Summer  1976.0  Summer        Montreal   Shooting   \n2      GUA  1980 Summer  1980.0  Summer          Moskva   Shooting   \n3      GUA  1984 Summer  1984.0  Summer     Los Angeles   Shooting   \n4      GUA  1992 Summer  1992.0  Summer       Barcelona   Shooting   \n...    ...          ...     ...     ...             ...        ...   \n22581  FRA  1924 Summer  1924.0  Summer           Paris  Athletics   \n22582  MLI  2016 Summer  2016.0  Summer  Rio de Janeiro  Taekwondo   \n22584  MLI  1992 Summer  1992.0  Summer       Barcelona       Judo   \n22585  MLI  2008 Summer  2008.0  Summer         Beijing   Swimming   \n22586  MLI   2004 Summe     NaN     NaN             NaN        NaN   \n\n                                         Event Medal  Height_z_scores  \\\n0      Wrestling Men's Middleweight, Freestyle   NaN         0.439627   \n1                         Shooting Mixed Skeet   NaN         0.249711   \n2                         Shooting Mixed Skeet   NaN         0.249711   \n3                         Shooting Mixed Skeet   NaN         0.249711   \n4                         Shooting Mixed Skeet   NaN         0.249711   \n...                                        ...   ...              ...   \n22581                Athletics Men's Long Jump   NaN              NaN   \n22582             Taekwondo Men's Welterweight   NaN         1.484167   \n22584               Judo Men's HalfLightweight   NaN              NaN   \n22585       Swimming Men's 50 metres Freestyle   NaN              NaN   \n22586                                      NaN   NaN              NaN   \n\n       Height_min_max_scaled  \n0                   0.535354  \n1                   0.515152  \n2                   0.515152  \n3                   0.515152  \n4                   0.515152  \n...                      ...  \n22581                    NaN  \n22582               0.646465  \n22584                    NaN  \n22585                    NaN  \n22586                    NaN  \n\n[265893 rows x 17 columns]",
      "text/html": "<div>\n<style scoped>\n    .dataframe tbody tr th:only-of-type {\n        vertical-align: middle;\n    }\n\n    .dataframe tbody tr th {\n        vertical-align: top;\n    }\n\n    .dataframe thead th {\n        text-align: right;\n    }\n</style>\n<table border=\"1\" class=\"dataframe\">\n  <thead>\n    <tr style=\"text-align: right;\">\n      <th></th>\n      <th>ID</th>\n      <th>Name</th>\n      <th>Sex</th>\n      <th>Age</th>\n      <th>Height</th>\n      <th>Weight</th>\n      <th>Team</th>\n      <th>NOC</th>\n      <th>Games</th>\n      <th>Year</th>\n      <th>Season</th>\n      <th>City</th>\n      <th>Sport</th>\n      <th>Event</th>\n      <th>Medal</th>\n      <th>Height_z_scores</th>\n      <th>Height_min_max_scaled</th>\n    </tr>\n  </thead>\n  <tbody>\n    <tr>\n      <th>0</th>\n      <td>102344</td>\n      <td>Yosmany Romero Rodrguez</td>\n      <td>M</td>\n      <td>24.0</td>\n      <td>180.0</td>\n      <td>76.0</td>\n      <td>Cuba</td>\n      <td>CUB</td>\n      <td>2000 Summer</td>\n      <td>2000.0</td>\n      <td>Summer</td>\n      <td>Sydney</td>\n      <td>Wrestling</td>\n      <td>Wrestling Men's Middleweight, Freestyle</td>\n      <td>NaN</td>\n      <td>0.439627</td>\n      <td>0.535354</td>\n    </tr>\n    <tr>\n      <th>1</th>\n      <td>102345</td>\n      <td>Francisco Romero Arribas</td>\n      <td>M</td>\n      <td>16.0</td>\n      <td>178.0</td>\n      <td>64.0</td>\n      <td>Guatemala</td>\n      <td>GUA</td>\n      <td>1976 Summer</td>\n      <td>1976.0</td>\n      <td>Summer</td>\n      <td>Montreal</td>\n      <td>Shooting</td>\n      <td>Shooting Mixed Skeet</td>\n      <td>NaN</td>\n      <td>0.249711</td>\n      <td>0.515152</td>\n    </tr>\n    <tr>\n      <th>2</th>\n      <td>102345</td>\n      <td>Francisco Romero Arribas</td>\n      <td>M</td>\n      <td>20.0</td>\n      <td>178.0</td>\n      <td>64.0</td>\n      <td>Guatemala</td>\n      <td>GUA</td>\n      <td>1980 Summer</td>\n      <td>1980.0</td>\n      <td>Summer</td>\n      <td>Moskva</td>\n      <td>Shooting</td>\n      <td>Shooting Mixed Skeet</td>\n      <td>NaN</td>\n      <td>0.249711</td>\n      <td>0.515152</td>\n    </tr>\n    <tr>\n      <th>3</th>\n      <td>102345</td>\n      <td>Francisco Romero Arribas</td>\n      <td>M</td>\n      <td>24.0</td>\n      <td>178.0</td>\n      <td>64.0</td>\n      <td>Guatemala</td>\n      <td>GUA</td>\n      <td>1984 Summer</td>\n      <td>1984.0</td>\n      <td>Summer</td>\n      <td>Los Angeles</td>\n      <td>Shooting</td>\n      <td>Shooting Mixed Skeet</td>\n      <td>NaN</td>\n      <td>0.249711</td>\n      <td>0.515152</td>\n    </tr>\n    <tr>\n      <th>4</th>\n      <td>102345</td>\n      <td>Francisco Romero Arribas</td>\n      <td>M</td>\n      <td>32.0</td>\n      <td>178.0</td>\n      <td>64.0</td>\n      <td>Guatemala</td>\n      <td>GUA</td>\n      <td>1992 Summer</td>\n      <td>1992.0</td>\n      <td>Summer</td>\n      <td>Barcelona</td>\n      <td>Shooting</td>\n      <td>Shooting Mixed Skeet</td>\n      <td>NaN</td>\n      <td>0.249711</td>\n      <td>0.515152</td>\n    </tr>\n    <tr>\n      <th>...</th>\n      <td>...</td>\n      <td>...</td>\n      <td>...</td>\n      <td>...</td>\n      <td>...</td>\n      <td>...</td>\n      <td>...</td>\n      <td>...</td>\n      <td>...</td>\n      <td>...</td>\n      <td>...</td>\n      <td>...</td>\n      <td>...</td>\n      <td>...</td>\n      <td>...</td>\n      <td>...</td>\n      <td>...</td>\n    </tr>\n    <tr>\n      <th>22581</th>\n      <td>23428</td>\n      <td>Paul Couillaud</td>\n      <td>M</td>\n      <td>30.0</td>\n      <td>NaN</td>\n      <td>NaN</td>\n      <td>France</td>\n      <td>FRA</td>\n      <td>1924 Summer</td>\n      <td>1924.0</td>\n      <td>Summer</td>\n      <td>Paris</td>\n      <td>Athletics</td>\n      <td>Athletics Men's Long Jump</td>\n      <td>NaN</td>\n      <td>NaN</td>\n      <td>NaN</td>\n    </tr>\n    <tr>\n      <th>22582</th>\n      <td>23429</td>\n      <td>Ismal Coulibaly</td>\n      <td>M</td>\n      <td>23.0</td>\n      <td>191.0</td>\n      <td>78.0</td>\n      <td>Mali</td>\n      <td>MLI</td>\n      <td>2016 Summer</td>\n      <td>2016.0</td>\n      <td>Summer</td>\n      <td>Rio de Janeiro</td>\n      <td>Taekwondo</td>\n      <td>Taekwondo Men's Welterweight</td>\n      <td>NaN</td>\n      <td>1.484167</td>\n      <td>0.646465</td>\n    </tr>\n    <tr>\n      <th>22584</th>\n      <td>23431</td>\n      <td>Mamadou Coulibaly</td>\n      <td>M</td>\n      <td>NaN</td>\n      <td>NaN</td>\n      <td>NaN</td>\n      <td>Mali</td>\n      <td>MLI</td>\n      <td>1992 Summer</td>\n      <td>1992.0</td>\n      <td>Summer</td>\n      <td>Barcelona</td>\n      <td>Judo</td>\n      <td>Judo Men's HalfLightweight</td>\n      <td>NaN</td>\n      <td>NaN</td>\n      <td>NaN</td>\n    </tr>\n    <tr>\n      <th>22585</th>\n      <td>23432</td>\n      <td>Mohamed Coulibaly</td>\n      <td>M</td>\n      <td>18.0</td>\n      <td>NaN</td>\n      <td>NaN</td>\n      <td>Mali</td>\n      <td>MLI</td>\n      <td>2008 Summer</td>\n      <td>2008.0</td>\n      <td>Summer</td>\n      <td>Beijing</td>\n      <td>Swimming</td>\n      <td>Swimming Men's 50 metres Freestyle</td>\n      <td>NaN</td>\n      <td>NaN</td>\n      <td>NaN</td>\n    </tr>\n    <tr>\n      <th>22586</th>\n      <td>23433</td>\n      <td>Hadj Moussa Coulibaly</td>\n      <td>M</td>\n      <td>23.0</td>\n      <td>NaN</td>\n      <td>NaN</td>\n      <td>Mali</td>\n      <td>MLI</td>\n      <td>2004 Summe</td>\n      <td>NaN</td>\n      <td>NaN</td>\n      <td>NaN</td>\n      <td>NaN</td>\n      <td>NaN</td>\n      <td>NaN</td>\n      <td>NaN</td>\n      <td>NaN</td>\n    </tr>\n  </tbody>\n</table>\n<p>265893 rows × 17 columns</p>\n</div>"
     },
     "execution_count": 85,
     "metadata": {},
     "output_type": "execute_result"
    }
   ],
   "source": [
    "h_max = olympics_filtered.Height.max()\n",
    "h_min = olympics_filtered.Height.min()\n",
    "olympics_filtered['Height_min_max_scaled'] = (olympics_filtered.Height - h_min) / (h_max - h_min)\n",
    "olympics_filtered"
   ],
   "metadata": {
    "collapsed": false
   }
  },
  {
   "cell_type": "markdown",
   "source": [
    "## 14. Winter publication"
   ],
   "metadata": {
    "collapsed": false
   }
  },
  {
   "cell_type": "code",
   "execution_count": 88,
   "outputs": [],
   "source": [
    "def find_mean(data: pd.DataFrame, sex: str, var: str) -> pd.DataFrame:\n",
    "    return data.loc[data['Sex'] == sex][var].dropna().mean()\n",
    "\n",
    "f_weight = find_mean(winter, 'F', 'Weight')\n",
    "f_age = find_mean(winter, 'F', 'Age')\n",
    "f_height = find_mean(winter, 'F', 'Height')\n",
    "\n",
    "m_weight = find_mean(winter, 'M', 'Weight')\n",
    "m_age = find_mean(winter, 'M', 'Age')\n",
    "m_height = find_mean(winter, 'M', 'Height')"
   ],
   "metadata": {
    "collapsed": false
   }
  },
  {
   "cell_type": "markdown",
   "source": [
    "I would import the results as a table."
   ],
   "metadata": {
    "collapsed": false
   }
  },
  {
   "cell_type": "code",
   "execution_count": 91,
   "outputs": [
    {
     "data": {
      "text/plain": "            Mean height  Mean weight   Mean age\nMen          178.679905    76.367578  25.508647\nWomen         59.755140    59.755140  24.014735\nDifference   118.924766    16.612438   1.493912",
      "text/html": "<div>\n<style scoped>\n    .dataframe tbody tr th:only-of-type {\n        vertical-align: middle;\n    }\n\n    .dataframe tbody tr th {\n        vertical-align: top;\n    }\n\n    .dataframe thead th {\n        text-align: right;\n    }\n</style>\n<table border=\"1\" class=\"dataframe\">\n  <thead>\n    <tr style=\"text-align: right;\">\n      <th></th>\n      <th>Mean height</th>\n      <th>Mean weight</th>\n      <th>Mean age</th>\n    </tr>\n  </thead>\n  <tbody>\n    <tr>\n      <th>Men</th>\n      <td>178.679905</td>\n      <td>76.367578</td>\n      <td>25.508647</td>\n    </tr>\n    <tr>\n      <th>Women</th>\n      <td>59.755140</td>\n      <td>59.755140</td>\n      <td>24.014735</td>\n    </tr>\n    <tr>\n      <th>Difference</th>\n      <td>118.924766</td>\n      <td>16.612438</td>\n      <td>1.493912</td>\n    </tr>\n  </tbody>\n</table>\n</div>"
     },
     "execution_count": 91,
     "metadata": {},
     "output_type": "execute_result"
    }
   ],
   "source": [
    "publ_import = {'Mean height' : [m_height, f_weight, m_height - f_weight],\n",
    "                 'Mean weight' : [m_weight, f_weight, m_weight - f_weight],\n",
    "                 'Mean age' : [m_age, f_age, m_age - f_age]}\n",
    "publ_table = pd.DataFrame(publ_import, index=['Men', 'Women', 'Difference'])\n",
    "\n",
    "publ_table"
   ],
   "metadata": {
    "collapsed": false
   }
  },
  {
   "cell_type": "markdown",
   "source": [
    "## 15. Teams and medals\n",
    "\n",
    "The medals do depend on the teams. I noticed it performing 11th task. Here is correlation coefficient."
   ],
   "metadata": {
    "collapsed": false
   }
  },
  {
   "cell_type": "code",
   "execution_count": 93,
   "outputs": [
    {
     "data": {
      "text/plain": "0.059043133518813774"
     },
     "execution_count": 93,
     "metadata": {},
     "output_type": "execute_result"
    }
   ],
   "source": [
    "olympics_filtered['Team'].astype('category').cat.codes.corr(olympics_filtered['Medal'].astype('category').cat.codes, method='spearman')"
   ],
   "metadata": {
    "collapsed": false
   }
  },
  {
   "cell_type": "markdown",
   "source": [],
   "metadata": {
    "collapsed": false
   }
  }
 ],
 "metadata": {
  "kernelspec": {
   "display_name": "Python 3",
   "language": "python",
   "name": "python3"
  },
  "language_info": {
   "codemirror_mode": {
    "name": "ipython",
    "version": 2
   },
   "file_extension": ".py",
   "mimetype": "text/x-python",
   "name": "python",
   "nbconvert_exporter": "python",
   "pygments_lexer": "ipython2",
   "version": "2.7.6"
  }
 },
 "nbformat": 4,
 "nbformat_minor": 0
}
